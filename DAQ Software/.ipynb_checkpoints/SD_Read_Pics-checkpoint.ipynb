{
 "cells": [
  {
   "cell_type": "code",
   "execution_count": 5,
   "metadata": {
    "scrolled": false
   },
   "outputs": [
    {
     "name": "stdout",
     "output_type": "stream",
     "text": [
      "[[0.37254902 0.36470588 0.42352941 ... 0.6627451  0.70980392 0.74509804]\n",
      " [0.35686275 0.39607843 0.37254902 ... 0.70588235 0.70980392 0.72156863]\n",
      " [0.54901961 0.5254902  0.47843137 ... 0.76078431 0.88627451 0.83529412]\n",
      " ...\n",
      " [0.88235294 0.80392157 0.90980392 ... 0.21176471 0.21568627 0.19215686]\n",
      " [0.78039216 0.76862745 0.83137255 ... 0.11764706 0.23921569 0.19215686]\n",
      " [0.80784314 0.78431373 0.90196078 ... 0.         0.         0.        ]]\n",
      "296 384\n"
     ]
    }
   ],
   "source": [
    "import numpy as np\n",
    "import cv2\n",
    "\n",
    "# variables that you can adjust\n",
    "driveName = r\"\\\\.\\PhysicalDrive1\"  # Change this to the correct drive\n",
    "sectorSize = 512    # The number of bytes in a sector (two hexidecimal numbers is 8 bits, or a byte)\n",
    "startingSector = 1024\n",
    "frameWidth = 296    # The number of pixels in the width (Each pixel is a byte)\n",
    "frameHeight = 384    # The number of pixels in the height\n",
    "numFrames2Read = 90\n",
    "fps = 20\n",
    "\n",
    "f = open(driveName, \"rb\")  # Open drive\n",
    "\n",
    "# TO DO: Seems like the starting sector isn't correct. Try to search for the write key location. : nvm. Got it.\n",
    "# Write_Key = 0x0D7CBA17\n",
    "f.seek(startingSector * sectorSize)  # Move to correct sector\n",
    "\n",
    "# Gather frames for a video\n",
    "frame_array = []\n",
    "\n",
    "for numFrame in range(numFrames2Read):  # Loop through frames\n",
    "    {\n",
    "    rawBytes = f.read(frameWidth * frameHeight)\n",
    "    pixelValues = list(rawBytes)  # Converts from bytes to list. This and the next line can be done more efficiently\n",
    "    \n",
    "    DMAComplete = pixelValues[-16]   # Do I need this?\n",
    "    Timestamp = pixelValues[-8:-4]\n",
    "    Timestamp = Timestamp[0] + 16 * Timestamp[1] + pow(16, 2) * Timestamp[2] + pow(16, 3) * Timestamp[3]\n",
    "    Line_Count = pixelValues[-12:-8]\n",
    "    Frame_Number = pixelValues[-4:]\n",
    "    \n",
    "    frame = np.array(pixelValues) / 255.0  # Convert to numpy array\n",
    "    frame = np.reshape(frame, (frameWidth, frameHeight))  # reshape into correct frame dimensions\n",
    "    \n",
    "    frame_array.append(frame)\n",
    "    \n",
    "#    cv2.imshow(\"sdCard Video\", frame)  # Display frame\n",
    "#    cv2.waitKey(\n",
    "#        0\n",
    "#    )  # Wait for button press to show next frame. Can use time.sleep(n) to increment frame every 'n' seconds\n",
    "    \n",
    "\n",
    "#    print(\"\\nDMA Complete: \", DMAComplete, \n",
    "#          \"\\nTimestamp: \", Timestamp, \n",
    "#          \"\\n# of Lines: \", Line_Count, \n",
    "#          \"\\nFrame Number: \", Frame_Number)\n",
    "    }\n",
    "\n",
    "# cv2.destroyAllWindows()\n",
    "print(frame_array[1])\n",
    "print(len(frame_array[1]), len(frame_array[1][1]))\n",
    "cv2.imshow(\"SD\", frame_array[1])\n",
    "\n",
    "f.close()"
   ]
  },
  {
   "cell_type": "code",
   "execution_count": 5,
   "metadata": {},
   "outputs": [
    {
     "name": "stdout",
     "output_type": "stream",
     "text": [
      "[[0.37254902 0.36470588 0.42352941 ... 0.6627451  0.70980392 0.74509804]\n",
      " [0.35686275 0.39607843 0.37254902 ... 0.70588235 0.70980392 0.72156863]\n",
      " [0.54901961 0.5254902  0.47843137 ... 0.76078431 0.88627451 0.83529412]\n",
      " ...\n",
      " [0.88235294 0.80392157 0.90980392 ... 0.21176471 0.21568627 0.19215686]\n",
      " [0.78039216 0.76862745 0.83137255 ... 0.11764706 0.23921569 0.19215686]\n",
      " [0.80784314 0.78431373 0.90196078 ... 0.         0.         0.        ]]\n",
      "296 384\n"
     ]
    }
   ],
   "source": []
  },
  {
   "cell_type": "code",
   "execution_count": 4,
   "metadata": {},
   "outputs": [],
   "source": [
    "out = cv2.VideoWriter('SD_vid.avi', cv2.VideoWriter_fourcc('P','V','W','2'), 20, (frameWidth,frameHeight), 0)\n",
    " \n",
    "for i in range(len(frame_array)):\n",
    "    out.write(frame_array[i])\n",
    "out.release()"
   ]
  },
  {
   "cell_type": "code",
   "execution_count": null,
   "metadata": {},
   "outputs": [],
   "source": []
  }
 ],
 "metadata": {
  "kernelspec": {
   "display_name": "Python 3",
   "language": "python",
   "name": "python3"
  },
  "language_info": {
   "codemirror_mode": {
    "name": "ipython",
    "version": 3
   },
   "file_extension": ".py",
   "mimetype": "text/x-python",
   "name": "python",
   "nbconvert_exporter": "python",
   "pygments_lexer": "ipython3",
   "version": "3.7.3"
  }
 },
 "nbformat": 4,
 "nbformat_minor": 2
}
