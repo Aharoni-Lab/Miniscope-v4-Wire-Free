{
 "cells": [
  {
   "cell_type": "code",
   "execution_count": 1,
   "metadata": {},
   "outputs": [],
   "source": [
    "import serial\n",
    "import datetime"
   ]
  },
  {
   "cell_type": "code",
   "execution_count": 2,
   "metadata": {},
   "outputs": [],
   "source": [
    "# Make sure to run this script before connecting the USB\n",
    "\n",
    "serialPort = serial.Serial(port = \"COM6\", baudrate = 3000000, bytesize = 8, timeout = 0, stopbits = serial.STOPBITS_ONE)\n",
    "t_before = datetime.datetime.now()"
   ]
  },
  {
   "cell_type": "code",
   "execution_count": 3,
   "metadata": {},
   "outputs": [],
   "source": [
    "i = 0\n",
    "repeat_max = 20000\n",
    "buffSizes = []\n",
    "stringTotal = bytearray() #\"\"\n",
    "serialString = bytearray() #\"\"\n",
    "#buff_size = serialPort.in_waiting\n",
    "while (serialPort.in_waiting >= 0) and (i < repeat_max):\n",
    "    serialString = serialPort.read(serialPort.in_waiting)\n",
    "    stringTotal.extend(serialString) #stringTotal += str(serialString)\n",
    "    if serialPort.in_waiting > 0:\n",
    "        i += 1\n",
    "#    buffSizes.append(buff_size)\n",
    "#    buff_size = serialPort.in_waiting\n",
    "    \n",
    "t_after = datetime.datetime.now()\n",
    "t_diff = (t_after - t_before).total_seconds()"
   ]
  },
  {
   "cell_type": "code",
   "execution_count": 4,
   "metadata": {
    "scrolled": true,
    "tags": []
   },
   "outputs": [
    {
     "name": "stdout",
     "output_type": "stream",
     "text": [
      "time elapsed: 22.213024 , bytes:  5646632 , packets/sec: 254203.65997893846 , Incoming: ... bytearray(b'D\\x00\\x15\\x8aE\\x00\\x15\\x8aF\\x00\\x15\\x8aG\\x00\\x15\\x8aH\\x00\\x15\\x8aI')\n"
     ]
    }
   ],
   "source": [
    "#stringTotal = stringTotal.replace(\"\\'\", \"\")\n",
    "#stringTotal = stringTotal.replace(\"b\", \"\")\n",
    "print(\"time elapsed:\", t_diff, \", bytes: \", len(stringTotal), \", packets/sec:\", len(stringTotal)/t_diff, \", Incoming: ...\", stringTotal[-21:])"
   ]
  },
  {
   "cell_type": "code",
   "execution_count": 5,
   "metadata": {},
   "outputs": [],
   "source": [
    "incomeArray = [(stringTotal[x]<<24) + (stringTotal[x+1]<<16) + (stringTotal[x+2]<<8) + (stringTotal[x+3]) for x in range (0, len(stringTotal)-4, 4)]"
   ]
  },
  {
   "cell_type": "code",
   "execution_count": 6,
   "metadata": {},
   "outputs": [
    {
     "data": {
      "text/plain": [
       "1"
      ]
     },
     "execution_count": 6,
     "metadata": {},
     "output_type": "execute_result"
    }
   ],
   "source": [
    "numCount = {}\n",
    "for i in incomeArray:\n",
    "# for i in stringTotal:\n",
    "    if i in numCount.keys():\n",
    "        numCount[i] += 1\n",
    "    else:\n",
    "        numCount[i] = 1\n",
    "# print(numCount)\n",
    "numCount[124]"
   ]
  },
  {
   "cell_type": "code",
   "execution_count": 7,
   "metadata": {
    "scrolled": true
   },
   "outputs": [],
   "source": [
    "# diff = [t - s for s, t in zip(stringTotal, stringTotal[1:])]\n",
    "diff = [t - s for s, t in zip(incomeArray, incomeArray[1:])]\n",
    "skipped = [i for i in diff if i not in [1]]#, -0xff]]\n",
    "skippedIndices = [i for i, x in enumerate(diff) if x not in [1]]#, -0xff]]"
   ]
  },
  {
   "cell_type": "code",
   "execution_count": 8,
   "metadata": {
    "scrolled": true
   },
   "outputs": [
    {
     "name": "stdout",
     "output_type": "stream",
     "text": [
      "[]\n"
     ]
    }
   ],
   "source": [
    "print(skippedIndices)\n",
    "#print(diff)\n",
    "#filledBuff = [i for i in buffSizes if i != 0]\n",
    "#print(filledBuff)\n",
    "#print(len(buffSizes), buffSizes.count(0))"
   ]
  },
  {
   "cell_type": "code",
   "execution_count": 9,
   "metadata": {},
   "outputs": [],
   "source": [
    "for i in skippedIndices:\n",
    "    hexSkipped = stringTotal[i - 4 : i + 6].hex()\n",
    "    skipRange = [hexSkipped[i:i+2] for i in range(0,len(hexSkipped), 2)]\n",
    "    a = int(skipRange[5], 16)\n",
    "    b = int(skipRange[4], 16)\n",
    "    print(skipRange, (a - b) & 0xff)"
   ]
  },
  {
   "cell_type": "markdown",
   "metadata": {},
   "source": [
    "class ReadLine:\n",
    "    def __init__(self, s, l):\n",
    "        self.buf = bytearray()\n",
    "        self.s = s\n",
    "#        self.lim = l\n",
    "    \n",
    "    def readline(self):\n",
    "        i = self.buf.find(b\"\\n\")\n",
    "        if i >= 0:\n",
    "            r = self.buf[:i+1]\n",
    "            self.buf = self.buf[i+1:]\n",
    "            return r\n",
    "        for k in range(5000):#while True:\n",
    "            i = max(1, min(2048, self.s.in_waiting))\n",
    "            data = self.s.read(i)\n",
    "            i = data.find(b\"\\n\")\n",
    "            if i >= 0:\n",
    "                r = self.buf + data[:i+1]\n",
    "                self.buf[0:] = data[i+1:]\n",
    "                return r\n",
    "            else:\n",
    "                self.buf.extend(data)"
   ]
  },
  {
   "cell_type": "markdown",
   "metadata": {},
   "source": [
    "#serialPort = serial.Serial(port = \"COM6\", baudrate = 3000000, bytesize = 8, timeout = 0, stopbits = serial.STOPBITS_ONE)\n",
    "rl = ReadLine(serialPort, 500000)"
   ]
  },
  {
   "cell_type": "markdown",
   "metadata": {},
   "source": [
    "while True:\n",
    "    print(rl.readline())"
   ]
  },
  {
   "cell_type": "code",
   "execution_count": null,
   "metadata": {},
   "outputs": [],
   "source": []
  }
 ],
 "metadata": {
  "kernelspec": {
   "display_name": "Python 3",
   "language": "python",
   "name": "python3"
  },
  "language_info": {
   "codemirror_mode": {
    "name": "ipython",
    "version": 3
   },
   "file_extension": ".py",
   "mimetype": "text/x-python",
   "name": "python",
   "nbconvert_exporter": "python",
   "pygments_lexer": "ipython3",
   "version": "3.7.7"
  }
 },
 "nbformat": 4,
 "nbformat_minor": 4
}
