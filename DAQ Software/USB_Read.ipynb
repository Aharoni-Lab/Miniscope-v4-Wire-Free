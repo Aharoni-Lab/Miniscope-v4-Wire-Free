{
 "cells": [
  {
   "cell_type": "code",
   "execution_count": 1,
   "metadata": {},
   "outputs": [],
   "source": [
    "import serial\n",
    "import datetime"
   ]
  },
  {
   "cell_type": "code",
   "execution_count": 2,
   "metadata": {},
   "outputs": [],
   "source": [
    "serialPort = serial.Serial(port = \"COM6\", baudrate = 3000000, bytesize = 8, timeout = 0, stopbits = serial.STOPBITS_ONE)\n",
    "t_before = datetime.datetime.now()"
   ]
  },
  {
   "cell_type": "code",
   "execution_count": 3,
   "metadata": {},
   "outputs": [],
   "source": [
    "i = 0\n",
    "repeat_max = 10000\n",
    "buffSizes = []\n",
    "stringTotal = bytearray() #\"\"\n",
    "serialString = bytearray() #\"\"\n",
    "#buff_size = serialPort.in_waiting\n",
    "while (serialPort.in_waiting >= 0) and (i < repeat_max):\n",
    "    serialString = serialPort.read(serialPort.in_waiting)\n",
    "    stringTotal.extend(serialString) #stringTotal += str(serialString)\n",
    "    if serialPort.in_waiting > 0:\n",
    "        i += 1\n",
    "#    buffSizes.append(buff_size)\n",
    "#    buff_size = serialPort.in_waiting\n",
    "    \n",
    "t_after = datetime.datetime.now()\n",
    "t_diff = (t_after - t_before).total_seconds()"
   ]
  },
  {
   "cell_type": "code",
   "execution_count": 4,
   "metadata": {
    "scrolled": true,
    "tags": []
   },
   "outputs": [
    {
     "name": "stdout",
     "output_type": "stream",
     "text": [
      "time elapsed: 9.15166 , bytes:  2745983 , packets/sec: 300052.99584993324 , Incoming: ... bytearray(b'\\xc2\\xc3\\xc4\\xc5\\xc6\\xc7\\xc8\\xc9\\xca\\xcb\\xcc\\xcd\\xce\\xcf\\xd0\\xd1\\xd2\\xd3\\xd4\\xd5\\xd6')\n"
     ]
    }
   ],
   "source": [
    "#stringTotal = stringTotal.replace(\"\\'\", \"\")\n",
    "#stringTotal = stringTotal.replace(\"b\", \"\")\n",
    "print(\"time elapsed:\", t_diff, \", bytes: \", len(stringTotal), \", packets/sec:\", len(stringTotal)/t_diff, \", Incoming: ...\", stringTotal[-21:])"
   ]
  },
  {
   "cell_type": "code",
   "execution_count": 5,
   "metadata": {},
   "outputs": [
    {
     "name": "stdout",
     "output_type": "stream",
     "text": [
      "{88: 10727, 89: 10727, 90: 10727, 91: 10727, 92: 10727, 93: 10727, 94: 10727, 95: 10727, 96: 10727, 97: 10727, 98: 10727, 99: 10727, 100: 10727, 101: 10727, 102: 10727, 103: 10727, 104: 10727, 105: 10727, 106: 10727, 107: 10727, 108: 10727, 109: 10727, 110: 10727, 111: 10727, 112: 10727, 113: 10727, 114: 10727, 115: 10727, 116: 10727, 117: 10727, 118: 10727, 119: 10727, 120: 10727, 121: 10727, 122: 10727, 123: 10727, 124: 10727, 125: 10727, 126: 10727, 127: 10727, 128: 10727, 129: 10727, 130: 10727, 131: 10727, 132: 10727, 133: 10727, 134: 10727, 135: 10727, 136: 10727, 137: 10727, 138: 10727, 139: 10727, 140: 10727, 141: 10727, 142: 10727, 143: 10727, 144: 10727, 145: 10727, 146: 10727, 147: 10727, 148: 10727, 149: 10727, 150: 10727, 151: 10727, 152: 10727, 153: 10727, 154: 10727, 155: 10727, 156: 10727, 157: 10727, 158: 10727, 159: 10727, 160: 10727, 161: 10727, 162: 10727, 163: 10727, 164: 10727, 165: 10727, 166: 10727, 167: 10727, 168: 10727, 169: 10727, 170: 10727, 171: 10727, 172: 10727, 173: 10727, 174: 10727, 175: 10727, 176: 10727, 177: 10727, 178: 10727, 179: 10727, 180: 10727, 181: 10727, 182: 10727, 183: 10727, 184: 10727, 185: 10727, 186: 10727, 187: 10727, 188: 10727, 189: 10727, 190: 10727, 191: 10727, 192: 10727, 193: 10727, 194: 10727, 195: 10727, 196: 10727, 197: 10727, 198: 10727, 199: 10727, 200: 10727, 201: 10727, 202: 10727, 203: 10727, 204: 10727, 205: 10727, 206: 10727, 207: 10727, 208: 10727, 209: 10727, 210: 10727, 211: 10727, 212: 10727, 213: 10727, 214: 10727, 215: 10726, 216: 10726, 217: 10726, 218: 10726, 219: 10726, 220: 10726, 221: 10726, 222: 10726, 223: 10726, 224: 10726, 225: 10726, 226: 10726, 227: 10726, 228: 10726, 229: 10726, 230: 10726, 231: 10726, 232: 10726, 233: 10726, 234: 10726, 235: 10726, 236: 10726, 237: 10726, 238: 10726, 239: 10726, 240: 10726, 241: 10726, 242: 10726, 243: 10726, 244: 10726, 245: 10726, 246: 10726, 247: 10726, 248: 10726, 249: 10726, 250: 10726, 251: 10726, 252: 10726, 253: 10726, 254: 10726, 255: 10726, 0: 10726, 1: 10726, 2: 10726, 3: 10726, 4: 10726, 5: 10726, 6: 10726, 7: 10726, 8: 10726, 9: 10726, 10: 10726, 11: 10726, 12: 10726, 13: 10726, 14: 10726, 15: 10726, 16: 10726, 17: 10726, 18: 10726, 19: 10726, 20: 10726, 21: 10726, 22: 10726, 23: 10726, 24: 10726, 25: 10726, 26: 10726, 27: 10726, 28: 10726, 29: 10726, 30: 10726, 31: 10726, 32: 10726, 33: 10726, 34: 10726, 35: 10726, 36: 10726, 37: 10726, 38: 10726, 39: 10726, 40: 10726, 41: 10726, 42: 10726, 43: 10726, 44: 10726, 45: 10726, 46: 10726, 47: 10726, 48: 10726, 49: 10726, 50: 10726, 51: 10726, 52: 10726, 53: 10726, 54: 10726, 55: 10726, 56: 10726, 57: 10726, 58: 10726, 59: 10726, 60: 10726, 61: 10726, 62: 10726, 63: 10726, 64: 10726, 65: 10726, 66: 10726, 67: 10726, 68: 10726, 69: 10726, 70: 10726, 71: 10726, 72: 10726, 73: 10726, 74: 10726, 75: 10726, 76: 10726, 77: 10726, 78: 10726, 79: 10726, 80: 10726, 81: 10726, 82: 10726, 83: 10726, 84: 10726, 85: 10726, 86: 10726, 87: 10726}\n"
     ]
    }
   ],
   "source": [
    "numCount = {}\n",
    "for i in stringTotal:\n",
    "    if i in numCount.keys():\n",
    "        numCount[i] += 1\n",
    "    else:\n",
    "        numCount[i] = 1\n",
    "print(numCount)"
   ]
  },
  {
   "cell_type": "code",
   "execution_count": 6,
   "metadata": {
    "scrolled": true
   },
   "outputs": [],
   "source": [
    "list(stringTotal)\n",
    "diff = [t - s for s, t in zip(stringTotal, stringTotal[1:])]\n",
    "skipped = [i for i in diff if i not in [1, -0xff]]\n",
    "skippedIndices = [i for i, x in enumerate(diff) if x not in [1, -0xff]]"
   ]
  },
  {
   "cell_type": "code",
   "execution_count": 7,
   "metadata": {
    "scrolled": true
   },
   "outputs": [
    {
     "name": "stdout",
     "output_type": "stream",
     "text": [
      "[]\n"
     ]
    }
   ],
   "source": [
    "print(skippedIndices)\n",
    "#print(diff)\n",
    "#filledBuff = [i for i in buffSizes if i != 0]\n",
    "#print(filledBuff)\n",
    "#print(len(buffSizes), buffSizes.count(0))"
   ]
  },
  {
   "cell_type": "code",
   "execution_count": 8,
   "metadata": {},
   "outputs": [],
   "source": [
    "for i in skippedIndices:\n",
    "    hexSkipped = stringTotal[i - 4 : i + 6].hex()\n",
    "    skipRange = [hexskipped[i:i+2] for i in range(0,len(hexSkipped), 2)]\n",
    "    a = int(skipRange[5], 16)\n",
    "    b = int(skipRange[4], 16)\n",
    "    print(skipRange, (a - b) & 0xff)"
   ]
  },
  {
   "cell_type": "markdown",
   "metadata": {},
   "source": [
    "class ReadLine:\n",
    "    def __init__(self, s, l):\n",
    "        self.buf = bytearray()\n",
    "        self.s = s\n",
    "#        self.lim = l\n",
    "    \n",
    "    def readline(self):\n",
    "        i = self.buf.find(b\"\\n\")\n",
    "        if i >= 0:\n",
    "            r = self.buf[:i+1]\n",
    "            self.buf = self.buf[i+1:]\n",
    "            return r\n",
    "        for k in range(5000):#while True:\n",
    "            i = max(1, min(2048, self.s.in_waiting))\n",
    "            data = self.s.read(i)\n",
    "            i = data.find(b\"\\n\")\n",
    "            if i >= 0:\n",
    "                r = self.buf + data[:i+1]\n",
    "                self.buf[0:] = data[i+1:]\n",
    "                return r\n",
    "            else:\n",
    "                self.buf.extend(data)"
   ]
  },
  {
   "cell_type": "markdown",
   "metadata": {},
   "source": [
    "#serialPort = serial.Serial(port = \"COM6\", baudrate = 3000000, bytesize = 8, timeout = 0, stopbits = serial.STOPBITS_ONE)\n",
    "rl = ReadLine(serialPort, 500000)"
   ]
  },
  {
   "cell_type": "markdown",
   "metadata": {},
   "source": [
    "while True:\n",
    "    print(rl.readline())"
   ]
  },
  {
   "cell_type": "code",
   "execution_count": null,
   "metadata": {},
   "outputs": [],
   "source": []
  }
 ],
 "metadata": {
  "kernelspec": {
   "display_name": "Python 3",
   "language": "python",
   "name": "python3"
  },
  "language_info": {
   "codemirror_mode": {
    "name": "ipython",
    "version": 3
   },
   "file_extension": ".py",
   "mimetype": "text/x-python",
   "name": "python",
   "nbconvert_exporter": "python",
   "pygments_lexer": "ipython3",
   "version": "3.7.7"
  }
 },
 "nbformat": 4,
 "nbformat_minor": 4
}
