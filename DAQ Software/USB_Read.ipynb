{
 "cells": [
  {
   "cell_type": "code",
   "execution_count": 1,
   "metadata": {},
   "outputs": [],
   "source": [
    "import serial\n",
    "import datetime"
   ]
  },
  {
   "cell_type": "code",
   "execution_count": 2,
   "metadata": {},
   "outputs": [],
   "source": [
    "# Make sure to run this script before connecting the MCU USB (Keep the UART USB connected, so the port doesn't close.)\n",
    "\n",
    "serialPort = serial.Serial(port = \"COM6\", baudrate = 3000000, bytesize = 8, timeout = 0, stopbits = serial.STOPBITS_ONE)\n",
    "t_before = datetime.datetime.now()"
   ]
  },
  {
   "cell_type": "code",
   "execution_count": 3,
   "metadata": {},
   "outputs": [],
   "source": [
    "i = 0\n",
    "repeat_max = 20000\n",
    "buffSizes = []\n",
    "stringTotal = bytearray() #\"\"\n",
    "serialString = bytearray() #\"\"\n",
    "#buff_size = serialPort.in_waiting\n",
    "while (serialPort.in_waiting >= 0) and (i < repeat_max):\n",
    "    serialString = serialPort.read(serialPort.in_waiting)\n",
    "    stringTotal.extend(serialString) #stringTotal += str(serialString)\n",
    "    if serialPort.in_waiting > 0:\n",
    "        i += 1\n",
    "#    buffSizes.append(buff_size)\n",
    "#    buff_size = serialPort.in_waiting\n",
    "    \n",
    "t_after = datetime.datetime.now()\n",
    "t_diff = (t_after - t_before).total_seconds()"
   ]
  },
  {
   "cell_type": "code",
   "execution_count": 4,
   "metadata": {
    "scrolled": true,
    "tags": []
   },
   "outputs": [
    {
     "name": "stdout",
     "output_type": "stream",
     "text": [
      "time elapsed: 286.00571 , \n",
      "bytes: 4640574 , \n",
      "packets/sec: 16225.459274921468 ,\n",
      "snippets: 11000000000000000100 ... b3cc0011b3cd0011b3ce00\n"
     ]
    }
   ],
   "source": [
    "#stringTotal = stringTotal.replace(\"\\'\", \"\")\n",
    "#stringTotal = stringTotal.replace(\"b\", \"\")\n",
    "print(\"time elapsed:\", t_diff, \", \\nbytes:\", len(stringTotal), \", \\npackets/sec:\", len(stringTotal)/t_diff, \",\\nsnippets:\", stringTotal[:10].hex(), \"...\", stringTotal[-11:].hex())"
   ]
  },
  {
   "cell_type": "code",
   "execution_count": 5,
   "metadata": {},
   "outputs": [],
   "source": [
    "incomeArray = [(stringTotal[x]<<24) + (stringTotal[x+1]<<16) + (stringTotal[x+2]<<8) + (stringTotal[x+3]) for x in range (0, len(stringTotal)-4, 4)]"
   ]
  },
  {
   "cell_type": "code",
   "execution_count": 6,
   "metadata": {
    "scrolled": true
   },
   "outputs": [
    {
     "data": {
      "text/plain": [
       "1"
      ]
     },
     "execution_count": 6,
     "metadata": {},
     "output_type": "execute_result"
    }
   ],
   "source": [
    "numCount = {}\n",
    "for i in incomeArray:\n",
    "# for i in stringTotal:\n",
    "    if i in numCount.keys():\n",
    "        numCount[i] += 1\n",
    "    else:\n",
    "        numCount[i] = 1\n",
    "# print(numCount)\n",
    "numCount[122]"
   ]
  },
  {
   "cell_type": "code",
   "execution_count": 7,
   "metadata": {},
   "outputs": [
    {
     "data": {
      "text/plain": [
       "'11000000000000000100000002000000030000000400000005000000060000000700000008000000090000000a0000000b00'"
      ]
     },
     "execution_count": 7,
     "metadata": {},
     "output_type": "execute_result"
    }
   ],
   "source": [
    "stringTotal[:50].hex()\n",
    "#incomeArray[:10]"
   ]
  },
  {
   "cell_type": "code",
   "execution_count": 8,
   "metadata": {
    "scrolled": true
   },
   "outputs": [],
   "source": [
    "# diff = [t - s for s, t in zip(stringTotal, stringTotal[1:])]\n",
    "diff = [t - s for s, t in zip(incomeArray, incomeArray[1:])]\n",
    "skipped = [i for i in diff if i not in [1]]#, -0xff]]\n",
    "skippedIndices = [i for i, x in enumerate(diff) if x not in [1]]#, -0xff]]"
   ]
  },
  {
   "cell_type": "code",
   "execution_count": 9,
   "metadata": {
    "scrolled": true
   },
   "outputs": [
    {
     "name": "stderr",
     "output_type": "stream",
     "text": [
      "IOPub data rate exceeded.\n",
      "The notebook server will temporarily stop sending output\n",
      "to the client in order to avoid crashing it.\n",
      "To change this limit, set the config variable\n",
      "`--NotebookApp.iopub_data_rate_limit`.\n",
      "\n",
      "Current values:\n",
      "NotebookApp.iopub_data_rate_limit=1000000.0 (bytes/sec)\n",
      "NotebookApp.rate_limit_window=3.0 (secs)\n",
      "\n"
     ]
    }
   ],
   "source": [
    "print(skippedIndices)\n",
    "#print(diff)\n",
    "#filledBuff = [i for i in buffSizes if i != 0]\n",
    "#print(filledBuff)\n",
    "#print(len(buffSizes), buffSizes.count(0))"
   ]
  },
  {
   "cell_type": "code",
   "execution_count": 10,
   "metadata": {},
   "outputs": [
    {
     "ename": "IndexError",
     "evalue": "list index out of range",
     "output_type": "error",
     "traceback": [
      "\u001b[1;31m---------------------------------------------------------------------------\u001b[0m",
      "\u001b[1;31mIndexError\u001b[0m                                Traceback (most recent call last)",
      "\u001b[1;32m<ipython-input-10-efbb369cf4fb>\u001b[0m in \u001b[0;36m<module>\u001b[1;34m\u001b[0m\n\u001b[0;32m      2\u001b[0m     \u001b[0mhexSkipped\u001b[0m \u001b[1;33m=\u001b[0m \u001b[0mstringTotal\u001b[0m\u001b[1;33m[\u001b[0m\u001b[0mi\u001b[0m \u001b[1;33m-\u001b[0m \u001b[1;36m4\u001b[0m \u001b[1;33m:\u001b[0m \u001b[0mi\u001b[0m \u001b[1;33m+\u001b[0m \u001b[1;36m6\u001b[0m\u001b[1;33m]\u001b[0m\u001b[1;33m.\u001b[0m\u001b[0mhex\u001b[0m\u001b[1;33m(\u001b[0m\u001b[1;33m)\u001b[0m\u001b[1;33m\u001b[0m\u001b[1;33m\u001b[0m\u001b[0m\n\u001b[0;32m      3\u001b[0m     \u001b[0mskipRange\u001b[0m \u001b[1;33m=\u001b[0m \u001b[1;33m[\u001b[0m\u001b[0mhexSkipped\u001b[0m\u001b[1;33m[\u001b[0m\u001b[0mi\u001b[0m\u001b[1;33m:\u001b[0m\u001b[0mi\u001b[0m\u001b[1;33m+\u001b[0m\u001b[1;36m2\u001b[0m\u001b[1;33m]\u001b[0m \u001b[1;32mfor\u001b[0m \u001b[0mi\u001b[0m \u001b[1;32min\u001b[0m \u001b[0mrange\u001b[0m\u001b[1;33m(\u001b[0m\u001b[1;36m0\u001b[0m\u001b[1;33m,\u001b[0m\u001b[0mlen\u001b[0m\u001b[1;33m(\u001b[0m\u001b[0mhexSkipped\u001b[0m\u001b[1;33m)\u001b[0m\u001b[1;33m,\u001b[0m \u001b[1;36m2\u001b[0m\u001b[1;33m)\u001b[0m\u001b[1;33m]\u001b[0m\u001b[1;33m\u001b[0m\u001b[1;33m\u001b[0m\u001b[0m\n\u001b[1;32m----> 4\u001b[1;33m     \u001b[0ma\u001b[0m \u001b[1;33m=\u001b[0m \u001b[0mint\u001b[0m\u001b[1;33m(\u001b[0m\u001b[0mskipRange\u001b[0m\u001b[1;33m[\u001b[0m\u001b[1;36m5\u001b[0m\u001b[1;33m]\u001b[0m\u001b[1;33m,\u001b[0m \u001b[1;36m16\u001b[0m\u001b[1;33m)\u001b[0m\u001b[1;33m\u001b[0m\u001b[1;33m\u001b[0m\u001b[0m\n\u001b[0m\u001b[0;32m      5\u001b[0m     \u001b[0mb\u001b[0m \u001b[1;33m=\u001b[0m \u001b[0mint\u001b[0m\u001b[1;33m(\u001b[0m\u001b[0mskipRange\u001b[0m\u001b[1;33m[\u001b[0m\u001b[1;36m4\u001b[0m\u001b[1;33m]\u001b[0m\u001b[1;33m,\u001b[0m \u001b[1;36m16\u001b[0m\u001b[1;33m)\u001b[0m\u001b[1;33m\u001b[0m\u001b[1;33m\u001b[0m\u001b[0m\n\u001b[0;32m      6\u001b[0m     \u001b[0mprint\u001b[0m\u001b[1;33m(\u001b[0m\u001b[0mskipRange\u001b[0m\u001b[1;33m,\u001b[0m \u001b[1;33m(\u001b[0m\u001b[0ma\u001b[0m \u001b[1;33m-\u001b[0m \u001b[0mb\u001b[0m\u001b[1;33m)\u001b[0m \u001b[1;33m&\u001b[0m \u001b[1;36m0xff\u001b[0m\u001b[1;33m)\u001b[0m\u001b[1;33m\u001b[0m\u001b[1;33m\u001b[0m\u001b[0m\n",
      "\u001b[1;31mIndexError\u001b[0m: list index out of range"
     ]
    }
   ],
   "source": [
    "for i in skippedIndices:\n",
    "    hexSkipped = stringTotal[i - 4 : i + 6].hex()\n",
    "    skipRange = [hexSkipped[i:i+2] for i in range(0,len(hexSkipped), 2)]\n",
    "    a = int(skipRange[5], 16)\n",
    "    b = int(skipRange[4], 16)\n",
    "    print(skipRange, (a - b) & 0xff)"
   ]
  },
  {
   "cell_type": "markdown",
   "metadata": {},
   "source": [
    "class ReadLine:\n",
    "    def __init__(self, s, l):\n",
    "        self.buf = bytearray()\n",
    "        self.s = s\n",
    "#        self.lim = l\n",
    "    \n",
    "    def readline(self):\n",
    "        i = self.buf.find(b\"\\n\")\n",
    "        if i >= 0:\n",
    "            r = self.buf[:i+1]\n",
    "            self.buf = self.buf[i+1:]\n",
    "            return r\n",
    "        for k in range(5000):#while True:\n",
    "            i = max(1, min(2048, self.s.in_waiting))\n",
    "            data = self.s.read(i)\n",
    "            i = data.find(b\"\\n\")\n",
    "            if i >= 0:\n",
    "                r = self.buf + data[:i+1]\n",
    "                self.buf[0:] = data[i+1:]\n",
    "                return r\n",
    "            else:\n",
    "                self.buf.extend(data)"
   ]
  },
  {
   "cell_type": "markdown",
   "metadata": {},
   "source": [
    "#serialPort = serial.Serial(port = \"COM6\", baudrate = 3000000, bytesize = 8, timeout = 0, stopbits = serial.STOPBITS_ONE)\n",
    "rl = ReadLine(serialPort, 500000)"
   ]
  },
  {
   "cell_type": "markdown",
   "metadata": {},
   "source": [
    "while True:\n",
    "    print(rl.readline())"
   ]
  },
  {
   "cell_type": "code",
   "execution_count": null,
   "metadata": {},
   "outputs": [],
   "source": []
  }
 ],
 "metadata": {
  "kernelspec": {
   "display_name": "Python 3",
   "language": "python",
   "name": "python3"
  },
  "language_info": {
   "codemirror_mode": {
    "name": "ipython",
    "version": 3
   },
   "file_extension": ".py",
   "mimetype": "text/x-python",
   "name": "python",
   "nbconvert_exporter": "python",
   "pygments_lexer": "ipython3",
   "version": "3.7.7"
  }
 },
 "nbformat": 4,
 "nbformat_minor": 4
}
