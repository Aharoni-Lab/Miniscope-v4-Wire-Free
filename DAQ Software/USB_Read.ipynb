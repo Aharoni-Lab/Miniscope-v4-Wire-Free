{
 "cells": [
  {
   "cell_type": "code",
   "execution_count": 1,
   "metadata": {},
   "outputs": [],
   "source": [
    "import serial\n",
    "import datetime"
   ]
  },
  {
   "cell_type": "code",
   "execution_count": 2,
   "metadata": {},
   "outputs": [],
   "source": [
    "serialPort = serial.Serial(port = \"COM6\", baudrate = 3000000, bytesize = 8, timeout = 0, stopbits = serial.STOPBITS_ONE)\n",
    "t_before = datetime.datetime.now()"
   ]
  },
  {
   "cell_type": "code",
   "execution_count": 3,
   "metadata": {},
   "outputs": [],
   "source": [
    "i = 0\n",
    "repeat_max = 10000\n",
    "buffSizes = []\n",
    "stringTotal = bytearray() #\"\"\n",
    "serialString = bytearray() #\"\"\n",
    "#buff_size = serialPort.in_waiting\n",
    "while (serialPort.in_waiting >= 0) and (i < repeat_max):\n",
    "    serialString = serialPort.read(serialPort.in_waiting)\n",
    "    stringTotal.extend(serialString) #stringTotal += str(serialString)\n",
    "    if serialPort.in_waiting > 0:\n",
    "        i += 1\n",
    "#    buffSizes.append(buff_size)\n",
    "#    buff_size = serialPort.in_waiting\n",
    "    \n",
    "t_after = datetime.datetime.now()\n",
    "t_diff = (t_after - t_before).total_seconds()"
   ]
  },
  {
   "cell_type": "code",
   "execution_count": 4,
   "metadata": {
    "scrolled": true,
    "tags": []
   },
   "outputs": [
    {
     "name": "stdout",
     "output_type": "stream",
     "text": [
      "time elapsed: 10.347325 , bytes:  3101167 , packets/sec: 299707.12237220735 , Incoming: ... bytearray(b'^_`abcdefghijklmnopqr')\n"
     ]
    }
   ],
   "source": [
    "#stringTotal = stringTotal.replace(\"\\'\", \"\")\n",
    "#stringTotal = stringTotal.replace(\"b\", \"\")\n",
    "print(\"time elapsed:\", t_diff, \", bytes: \", len(stringTotal), \", packets/sec:\", len(stringTotal)/t_diff, \", Incoming: ...\", stringTotal[-21:])"
   ]
  },
  {
   "cell_type": "code",
   "execution_count": 5,
   "metadata": {},
   "outputs": [
    {
     "name": "stdout",
     "output_type": "stream",
     "text": [
      "{37: 12115, 38: 12115, 39: 12115, 40: 12115, 41: 12115, 42: 12115, 43: 12115, 44: 12115, 45: 12115, 46: 12115, 47: 12115, 48: 12115, 49: 12115, 50: 12115, 51: 12115, 52: 12115, 53: 12115, 54: 12115, 55: 12115, 56: 12115, 57: 12115, 58: 12115, 59: 12115, 60: 12115, 61: 12115, 62: 12115, 63: 12115, 64: 12115, 65: 12115, 66: 12115, 67: 12115, 68: 12115, 69: 12115, 70: 12115, 71: 12115, 72: 12115, 73: 12115, 74: 12115, 75: 12115, 76: 12115, 77: 12115, 78: 12115, 79: 12115, 80: 12115, 81: 12115, 82: 12115, 83: 12115, 84: 12115, 85: 12115, 86: 12115, 87: 12115, 88: 12115, 89: 12115, 90: 12115, 91: 12115, 92: 12115, 93: 12115, 94: 12115, 95: 12115, 96: 12115, 97: 12115, 98: 12115, 99: 12115, 100: 12115, 101: 12115, 102: 12115, 103: 12115, 104: 12115, 105: 12115, 106: 12115, 107: 12115, 108: 12115, 109: 12115, 110: 12115, 111: 12115, 112: 12115, 113: 12115, 114: 12115, 115: 12114, 116: 12114, 117: 12114, 118: 12114, 119: 12114, 120: 12114, 121: 12114, 122: 12114, 123: 12114, 124: 12114, 125: 12114, 126: 12114, 127: 12114, 128: 12114, 129: 12114, 130: 12114, 131: 12114, 132: 12114, 133: 12114, 134: 12114, 135: 12114, 136: 12114, 137: 12114, 138: 12114, 139: 12114, 140: 12114, 141: 12114, 142: 12114, 143: 12114, 144: 12114, 145: 12114, 146: 12114, 147: 12114, 148: 12114, 149: 12114, 150: 12114, 151: 12114, 152: 12114, 153: 12114, 154: 12114, 155: 12114, 156: 12114, 157: 12114, 158: 12114, 159: 12114, 160: 12114, 161: 12114, 162: 12114, 163: 12114, 164: 12114, 165: 12114, 166: 12114, 167: 12114, 168: 12114, 169: 12114, 170: 12113, 171: 12113, 172: 12113, 173: 12113, 174: 12113, 175: 12113, 176: 12113, 177: 12113, 178: 12113, 179: 12113, 180: 12113, 181: 12113, 182: 12113, 183: 12113, 184: 12113, 185: 12113, 186: 12113, 187: 12113, 188: 12113, 189: 12113, 190: 12113, 191: 12113, 192: 12113, 193: 12113, 194: 12113, 195: 12113, 196: 12113, 197: 12113, 198: 12113, 199: 12113, 200: 12113, 201: 12113, 202: 12113, 203: 12113, 204: 12113, 205: 12113, 206: 12113, 207: 12113, 208: 12113, 209: 12113, 210: 12113, 211: 12113, 212: 12113, 213: 12113, 214: 12113, 215: 12113, 216: 12113, 217: 12113, 218: 12113, 219: 12113, 220: 12113, 221: 12113, 222: 12113, 223: 12113, 224: 12113, 225: 12113, 226: 12113, 227: 12113, 228: 12113, 229: 12113, 230: 12113, 231: 12113, 232: 12113, 233: 12113, 234: 12113, 235: 12113, 236: 12113, 237: 12113, 238: 12113, 239: 12113, 240: 12113, 241: 12113, 242: 12113, 243: 12113, 244: 12113, 245: 12113, 246: 12113, 247: 12113, 248: 12113, 249: 12113, 250: 12113, 251: 12113, 252: 12113, 253: 12113, 254: 12113, 255: 12113, 0: 12113, 1: 12113, 2: 12113, 3: 12113, 4: 12113, 5: 12113, 6: 12113, 7: 12113, 8: 12113, 9: 12114, 10: 12114, 11: 12114, 12: 12114, 13: 12114, 14: 12114, 15: 12114, 16: 12114, 17: 12114, 18: 12114, 19: 12114, 20: 12114, 21: 12114, 22: 12114, 23: 12114, 24: 12114, 25: 12114, 26: 12114, 27: 12114, 28: 12114, 29: 12114, 30: 12114, 31: 12114, 32: 12114, 33: 12114, 34: 12114, 35: 12114, 36: 12114}\n"
     ]
    }
   ],
   "source": [
    "numCount = {}\n",
    "for i in stringTotal:\n",
    "    if i in numCount.keys():\n",
    "        numCount[i] += 1\n",
    "    else:\n",
    "        numCount[i] = 1\n",
    "print(numCount)"
   ]
  },
  {
   "cell_type": "code",
   "execution_count": 6,
   "metadata": {
    "scrolled": true
   },
   "outputs": [],
   "source": [
    "list(stringTotal)\n",
    "diff = [t - s for s, t in zip(stringTotal, stringTotal[1:])]\n",
    "skipped = [i for i in diff if i not in [1, -0xff]]\n",
    "skippedIndices = [i for i, x in enumerate(diff) if x not in [1, -0xff]]"
   ]
  },
  {
   "cell_type": "code",
   "execution_count": 7,
   "metadata": {
    "scrolled": true
   },
   "outputs": [
    {
     "name": "stdout",
     "output_type": "stream",
     "text": [
      "[1688452]\n"
     ]
    }
   ],
   "source": [
    "print(skippedIndices)\n",
    "#print(diff)\n",
    "#filledBuff = [i for i in buffSizes if i != 0]\n",
    "#print(filledBuff)\n",
    "#print(len(buffSizes), buffSizes.count(0))"
   ]
  },
  {
   "cell_type": "code",
   "execution_count": 26,
   "metadata": {},
   "outputs": [
    {
     "name": "stdout",
     "output_type": "stream",
     "text": [
      "['a5', 'a6', 'a7', 'a8', 'a9', '09', '0a', '0b', '0c', '0d'] 96\n"
     ]
    }
   ],
   "source": [
    "for i in skippedIndices:\n",
    "    hexSkipped = stringTotal[i - 4 : i + 6].hex()\n",
    "    skipRange = [hexskipped[i:i+2] for i in range(0,len(hexSkipped), 2)]\n",
    "    a = int(skipRange[5], 16)\n",
    "    b = int(skipRange[4], 16)\n",
    "    print(skipRange, (a - b) & 0xff)"
   ]
  },
  {
   "cell_type": "code",
   "execution_count": 24,
   "metadata": {},
   "outputs": [
    {
     "data": {
      "text/plain": [
       "96"
      ]
     },
     "execution_count": 24,
     "metadata": {},
     "output_type": "execute_result"
    }
   ],
   "source": [
    "0xf9 - 0x99"
   ]
  },
  {
   "cell_type": "markdown",
   "metadata": {},
   "source": [
    "class ReadLine:\n",
    "    def __init__(self, s, l):\n",
    "        self.buf = bytearray()\n",
    "        self.s = s\n",
    "#        self.lim = l\n",
    "    \n",
    "    def readline(self):\n",
    "        i = self.buf.find(b\"\\n\")\n",
    "        if i >= 0:\n",
    "            r = self.buf[:i+1]\n",
    "            self.buf = self.buf[i+1:]\n",
    "            return r\n",
    "        for k in range(5000):#while True:\n",
    "            i = max(1, min(2048, self.s.in_waiting))\n",
    "            data = self.s.read(i)\n",
    "            i = data.find(b\"\\n\")\n",
    "            if i >= 0:\n",
    "                r = self.buf + data[:i+1]\n",
    "                self.buf[0:] = data[i+1:]\n",
    "                return r\n",
    "            else:\n",
    "                self.buf.extend(data)"
   ]
  },
  {
   "cell_type": "markdown",
   "metadata": {},
   "source": [
    "#serialPort = serial.Serial(port = \"COM6\", baudrate = 3000000, bytesize = 8, timeout = 0, stopbits = serial.STOPBITS_ONE)\n",
    "rl = ReadLine(serialPort, 500000)"
   ]
  },
  {
   "cell_type": "markdown",
   "metadata": {},
   "source": [
    "while True:\n",
    "    print(rl.readline())"
   ]
  },
  {
   "cell_type": "code",
   "execution_count": null,
   "metadata": {},
   "outputs": [],
   "source": []
  }
 ],
 "metadata": {
  "kernelspec": {
   "display_name": "Python 3",
   "language": "python",
   "name": "python3"
  },
  "language_info": {
   "codemirror_mode": {
    "name": "ipython",
    "version": 3
   },
   "file_extension": ".py",
   "mimetype": "text/x-python",
   "name": "python",
   "nbconvert_exporter": "python",
   "pygments_lexer": "ipython3",
   "version": "3.7.7"
  }
 },
 "nbformat": 4,
 "nbformat_minor": 4
}
