{
 "cells": [
  {
   "cell_type": "code",
   "execution_count": null,
   "metadata": {
    "scrolled": false
   },
   "outputs": [],
   "source": [
    "import numpy as np\n",
    "import cv2\n",
    "\n",
    "# variables that you can adjust\n",
    "driveName = r\"\\\\.\\PhysicalDrive1\"  # Change this to the correct drive\n",
    "sectorSize = 512    # The number of bytes in a sector (two hexidecimal numbers is 8 bits, or a byte)\n",
    "startingSector = 1024\n",
    "frameWidth = 384    # The number of pixels in the width (Each pixel is a byte)\n",
    "frameHeight = 296    # The number of pixels in the height\n",
    "numFrames2Read = 90\n",
    "fps = 20\n",
    "\n",
    "f = open(driveName, \"rb\")  # Open drive\n",
    "\n",
    "# TO DO: Seems like the starting sector isn't correct. Try to search for the write key location. : nvm. Got it.\n",
    "# Write_Key = 0x0D7CBA17\n",
    "f.seek(startingSector * sectorSize)  # Move to correct sector\n",
    "\n",
    "# Gather frames for a video\n",
    "frame_array = []\n",
    "\n",
    "for numFrame in range(numFrames2Read):  # Loop through frames\n",
    "    rawBytes = f.read(frameWidth * frameHeight)\n",
    "    pixelValues = list(rawBytes)  # Converts from bytes to list. This and the next line can be done more efficiently\n",
    "    \n",
    "    DMAComplete = pixelValues[-16]\n",
    "    Timestamp = pixelValues[-8:-4]\n",
    "    Timestamp = Timestamp[0] + 16 * Timestamp[1] + pow(16, 2) * Timestamp[2] + pow(16, 3) * Timestamp[3]\n",
    "    Line_Count = pixelValues[-12:-8]\n",
    "    Frame_Number = pixelValues[-4:]\n",
    "    \n",
    "    frame = np.array(pixelValues) / 255.0  # Convert to numpy array\n",
    "    frame = np.reshape(frame, (frameHeight, frameWidth))  # reshape into correct frame dimensions\n",
    "    \n",
    "    frame_array.append(frame)\n",
    "    \n",
    "    cv2.imshow(\"sdCard Video\", frame)  # Display frame\n",
    "    cv2.waitKey(\n",
    "        0\n",
    "    )  # Wait for button press to show next frame. Can use time.sleep(n) to increment frame every 'n' seconds\n",
    "    \n",
    "\n",
    "    print(\"\\nDMA Complete: \", DMAComplete, \n",
    "          \"\\nTimestamp: \", Timestamp, \n",
    "          \"\\n# of Lines: \", Line_Count, \n",
    "          \"\\nFrame Number: \", Frame_Number)\n",
    "\n",
    "\n",
    "# cv2.destroyAllWindows()\n",
    "print(frame_array[1])\n",
    "print(len(frame_array[1]), len(frame_array[1][1]))\n",
    "\n",
    "# cv2.imshow(\"SD\", frame_array[1])\n",
    "\n",
    "f.close()"
   ]
  },
  {
   "cell_type": "code",
   "execution_count": 5,
   "metadata": {},
   "outputs": [],
   "source": [
    "out = cv2.VideoWriter('SD_vid.avi', cv2.VideoWriter_fourcc('P','V','W','2'), 20, (frameWidth,frameHeight), 0)\n",
    " \n",
    "for i in range(len(frame_array)):\n",
    "    out.write(frame_array[i])\n",
    "\n",
    "out.release()"
   ]
  }
 ],
 "metadata": {
  "kernelspec": {
   "display_name": "Python 3",
   "language": "python",
   "name": "python3"
  },
  "language_info": {
   "codemirror_mode": {
    "name": "ipython",
    "version": 3
   },
   "file_extension": ".py",
   "mimetype": "text/x-python",
   "name": "python",
   "nbconvert_exporter": "python",
   "pygments_lexer": "ipython3",
   "version": "3.7.3"
  }
 },
 "nbformat": 4,
 "nbformat_minor": 2
}
