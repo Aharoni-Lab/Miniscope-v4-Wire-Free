{
 "cells": [
  {
   "cell_type": "code",
   "execution_count": 1,
   "metadata": {},
   "outputs": [],
   "source": [
    "# Import necessary libraries. In case of an error don't continue running the rest of the cells\n",
    "# To avoid errors create the environment with the following command on Anaconda prompt: \n",
    "# conda create --name <YOUR_ENVIRONMENT_NAME> --file requirements.txt\n",
    "# Make sure to run the command on the folder .../Miniscope-v4-Wire-Free/Python DAQ Interface\n",
    "\n",
    "import numpy as np\n",
    "import numpy.polynomial.polynomial as poly\n",
    "from matplotlib import pyplot as plt\n",
    "import cv2\n",
    "import time\n",
    "import pandas as pd"
   ]
  },
  {
   "cell_type": "code",
   "execution_count": 2,
   "metadata": {},
   "outputs": [],
   "source": [
    "driveName = r\"\\\\.\\PhysicalDrive2\"  # Change this to the correct drive\n",
    "videoFileName = \"Federico\" + time.strftime(\"_%Y%m%d-%H%M%S\") # Video name will be [videoFileName][timestamp].avi\n",
    "\n",
    "# Read Data Sectors\n",
    "saveVideo = True\n",
    "plotHeaderValues = True\n",
    "displayVideo = False\n",
    "TargetFPS = 20"
   ]
  },
  {
   "cell_type": "code",
   "execution_count": 3,
   "metadata": {},
   "outputs": [],
   "source": [
    "# SD Card sector information\n",
    "headerSector =          1022 # Holds user settings to configure Miniscope and recording\n",
    "configSector =          1023 # Holds final settings of the actual recording\n",
    "dataStartSector =       1024 # Recording data starts here\n",
    "sectorSize =            512\n",
    "\n",
    "WRITE_KEY0 =\t\t\t\t0x0D7CBA17\n",
    "WRITE_KEY1 =\t\t\t\t0x0D7CBA17\n",
    "WRITE_KEY2 =\t\t\t\t0x0D7CBA17\n",
    "WRITE_KEY3 =\t\t\t\t0x0D7CBA17\n",
    "\n",
    "# SD Card Header Sector positions\n",
    "HEADER_GAIN_POS =\t\t\t\t4\n",
    "HEADER_LED_POS =\t\t\t\t5\n",
    "HEADER_EWL_POS =\t\t\t\t6\n",
    "HEADER_RECORD_LENGTH_POS =  \t7\n",
    "HEADER_FRAME_RATE = \t\t\t8\n",
    "\n",
    "# SD Card Config Sector positions\n",
    "CONFIG_BLOCK_WIDTH_POS =\t\t\t    0\n",
    "CONFIG_BLOCK_HEIGHT_POS\t=   \t\t    1\n",
    "CONFIG_BLOCK_FRAME_RATE_POS\t=   \t    2\n",
    "CONFIG_BLOCK_BUFFER_SIZE_POS =  \t    3\n",
    "CONFIG_BLOCK_NUM_BUFFERS_RECORDED_POS =\t4\n",
    "CONFIG_BLOCK_NUM_BUFFERS_DROPPED_POS =\t5\n",
    "\n",
    "# Data Buffer Header positions\n",
    "BUFFER_HEADER_HEADER_LENGTH_POS =\t\t\t0\n",
    "BUFFER_HEADER_LINKED_LIST_POS = \t\t\t1\n",
    "BUFFER_HEADER_FRAME_NUM_POS\t=   \t\t\t2\n",
    "BUFFER_HEADER_BUFFER_COUNT_POS =\t\t\t3\n",
    "BUFFER_HEADER_FRAME_BUFFER_COUNT_POS =  \t4\n",
    "BUFFER_HEADER_WRITE_BUFFER_COUNT_POS =  \t5\n",
    "BUFFER_HEADER_DROPPED_BUFFER_COUNT_POS =\t6\n",
    "BUFFER_HEADER_TIMESTAMP_POS\t=   \t\t\t7\n",
    "BUFFER_HEADER_DATA_LENGTH_POS = \t\t\t8\n",
    "BUFFER_HEADER_WRITE_TIMESTAMP_POS = \t\t9\n",
    "BUFFER_HEADER_BATTERY_POS=\t\t\t\t   10\n",
    "BUFFER_HEADER_EWL_POS=\t\t\t\t\t11"
   ]
  },
  {
   "cell_type": "code",
   "execution_count": 4,
   "metadata": {},
   "outputs": [
    {
     "name": "stdout",
     "output_type": "stream",
     "text": [
      "SD Card Opened.\n"
     ]
    }
   ],
   "source": [
    "# Needs to be run as administrator to have access to openning and reading card\n",
    "\n",
    "# variables that you can adjust\n",
    "correctDrive = False\n",
    "f = open(driveName, \"rb+\")  # Open drive\n",
    "\n",
    "# Make sure this is the correct drive\n",
    "# Read SD Card header and config sectors\n",
    "f.seek(headerSector * sectorSize, 0)  # Move to correct sector\n",
    "headerSectorData = np.frombuffer(f.read(sectorSize), dtype=np.uint32)\n",
    "if (True):\n",
    "#if ((WRITE_KEY0 == headerSectorData[0]) and (WRITE_KEY1 == headerSectorData[1]) and (WRITE_KEY2 == headerSectorData[2]) and (WRITE_KEY3 == headerSectorData[3])):\n",
    "    correctDrive = True\n",
    "    print(\"SD Card Opened.\")\n",
    "else:\n",
    "    print (\"Wrong Drive.\")\n",
    "    correctDrive = False\n",
    "    f.close()"
   ]
  },
  {
   "cell_type": "code",
   "execution_count": 5,
   "metadata": {},
   "outputs": [],
   "source": [
    "# Do not normally need to run this cell\n",
    "    \n",
    "#f.close()"
   ]
  },
  {
   "cell_type": "code",
   "execution_count": 6,
   "metadata": {},
   "outputs": [
    {
     "data": {
      "text/plain": [
       "array([  304,   304,    20, 20480,  4588,     0,     0,     0,     0,\n",
       "           0,     0,     0,     0,     0,     0,     0,     0,     0,\n",
       "           0,     0,     0,     0,     0,     0,     0,     0,     0,\n",
       "           0,     0,     0,     0,     0,     0,     0,     0,     0,\n",
       "           0,     0,     0,     0,     0,     0,     0,     0,     0,\n",
       "           0,     0,     0,     0,     0,     0,     0,     0,     0,\n",
       "           0,     0,     0,     0,     0,     0,     0,     0,     0,\n",
       "           0,     0,     0,     0,     0,     0,     0,     0,     0,\n",
       "           0,     0,     0,     0,     0,     0,     0,     0,     0,\n",
       "           0,     0,     0,     0,     0,     0,     0,     0,     0,\n",
       "           0,     0,     0,     0,     0,     0,     0,     0,     0,\n",
       "           0,     0,     0,     0,     0,     0,     0,     0,     0,\n",
       "           0,     0,     0,     0,     0,     0,     0,     0,     0,\n",
       "           0,     0,     0,     0,     0,     0,     0,     0,     0,\n",
       "           0,     0], dtype=uint32)"
      ]
     },
     "execution_count": 6,
     "metadata": {},
     "output_type": "execute_result"
    }
   ],
   "source": [
    "# Load up Config Sector\n",
    "\n",
    "f.seek(configSector * sectorSize, 0)  # Move to correct sector\n",
    "configSectorData = np.frombuffer(f.read(sectorSize), dtype=np.uint32)\n",
    "\n",
    "\n",
    "\n",
    "# This needs to be removed once WF Miniscope writes this sector correctly\n",
    "# configSectorData[CONFIG_BLOCK_WIDTH_POS] = 304\n",
    "# configSectorData[CONFIG_BLOCK_HEIGHT_POS] = 304\n",
    "# configSectorData[CONFIG_BLOCK_NUM_BUFFERS_RECORDED_POS] = 290\n",
    "configSectorData"
   ]
  },
  {
   "cell_type": "code",
   "execution_count": 7,
   "metadata": {},
   "outputs": [
    {
     "name": "stdout",
     "output_type": "stream",
     "text": [
      "\n",
      "----------\n",
      "Video saved as: Federico_20240305-17141820240305-171421.avi\n"
     ]
    },
    {
     "data": {
      "image/png": "[encoded data removed]",
      "text/plain": [
       "<Figure size 1000x300 with 3 Axes>"
      ]
     },
     "metadata": {},
     "output_type": "display_data"
    }
   ],
   "source": [
    "frameNum = 0\n",
    "pixelCount = 0\n",
    "header = []\n",
    "\n",
    "if saveVideo is True:\n",
    "    out = cv2.VideoWriter(videoFileName + '.avi', cv2.VideoWriter_fourcc(*'GREY'), \n",
    "                        10.0, (configSectorData[CONFIG_BLOCK_WIDTH_POS], configSectorData[CONFIG_BLOCK_HEIGHT_POS] ), \n",
    "                        isColor=False)\n",
    "\n",
    "frame = np.zeros((configSectorData[CONFIG_BLOCK_WIDTH_POS] * configSectorData[CONFIG_BLOCK_HEIGHT_POS], 1), dtype=np.uint8)\n",
    "f.seek(dataStartSector * sectorSize, 0) # Starting data location\n",
    "for i in range(configSectorData[CONFIG_BLOCK_NUM_BUFFERS_RECORDED_POS]):\n",
    "    dataHeader = np.frombuffer(f.read(4), dtype=np.uint32) # gets header length\n",
    "    dataHeader = np.append(dataHeader, np.frombuffer(f.read((dataHeader[BUFFER_HEADER_HEADER_LENGTH_POS] - 1) * 4), dtype=np.uint32))\n",
    "\n",
    "    header.append(dataHeader)\n",
    "    \n",
    "    numBlocks = int((dataHeader[BUFFER_HEADER_DATA_LENGTH_POS] + (dataHeader[BUFFER_HEADER_HEADER_LENGTH_POS] * 4) + (512 - 1)) / 512)\n",
    "    \n",
    "    data = np.frombuffer(f.read(numBlocks*512 - dataHeader[BUFFER_HEADER_HEADER_LENGTH_POS] * 4), dtype=np.uint8)\n",
    "\n",
    "    # Calculate buffer per frame at every start of a frame\n",
    "    if (dataHeader[BUFFER_HEADER_FRAME_BUFFER_COUNT_POS] == 0):\n",
    "        bufferPerFrame = int(np.ceil(configSectorData[CONFIG_BLOCK_WIDTH_POS] * configSectorData[CONFIG_BLOCK_HEIGHT_POS] / dataHeader[BUFFER_HEADER_DATA_LENGTH_POS]))\n",
    "\n",
    "    # -------------------------------------\n",
    "    if (dataHeader[BUFFER_HEADER_FRAME_BUFFER_COUNT_POS]%bufferPerFrame == 0):\n",
    "        # First buffer of a frame\n",
    "        \n",
    "        if saveVideo is True:\n",
    "            out.write(np.reshape(frame, (configSectorData[CONFIG_BLOCK_WIDTH_POS], configSectorData[CONFIG_BLOCK_HEIGHT_POS] )))\n",
    "        \n",
    "        if displayVideo is True:\n",
    "            cv2.imshow('Video', np.reshape(frame, (configSectorData[CONFIG_BLOCK_WIDTH_POS], configSectorData[CONFIG_BLOCK_HEIGHT_POS] )))\n",
    "            cv2.waitKey(20)\n",
    "        \n",
    "        if len(data) <= dataHeader[BUFFER_HEADER_DATA_LENGTH_POS]:\n",
    "            frame[0:dataHeader[BUFFER_HEADER_DATA_LENGTH_POS], 0] = data\n",
    "        else:\n",
    "            frame[0:len(data), 0] = data\n",
    "            print('----------\\n[Data overflow]\\nFrame count: ' + str(dataHeader[BUFFER_HEADER_FRAME_NUM_POS]) +\n",
    "                '\\nFrame buffer count: ' + str(dataHeader[BUFFER_HEADER_FRAME_BUFFER_COUNT_POS]) +\n",
    "                '\\nData length (Metadata): ' + str(dataHeader[BUFFER_HEADER_DATA_LENGTH_POS]) +\n",
    "                '\\nData length (Actual): ' + str(len(data)) +\n",
    "                '\\nData header: ' + str(dataHeader))\n",
    "\n",
    "        pixelCount = dataHeader[BUFFER_HEADER_DATA_LENGTH_POS]\n",
    "        frameNum = dataHeader[BUFFER_HEADER_FRAME_NUM_POS]\n",
    "    else:\n",
    "        # All other buffers of a frame\n",
    "        # startIdx = dataHeader[BUFFER_HEADER_FRAME_BUFFER_COUNT_POS] * 50 * 512\n",
    "        emptyPixelCount = len(frame[pixelCount:(pixelCount + dataHeader[BUFFER_HEADER_DATA_LENGTH_POS]), 0])\n",
    "\n",
    "        if emptyPixelCount >= len(data[:dataHeader[BUFFER_HEADER_DATA_LENGTH_POS]]):\n",
    "            frame[pixelCount:(pixelCount + dataHeader[BUFFER_HEADER_DATA_LENGTH_POS]), 0] = data[:dataHeader[BUFFER_HEADER_DATA_LENGTH_POS]]\n",
    "            pixelCount = pixelCount + dataHeader[BUFFER_HEADER_DATA_LENGTH_POS]\n",
    "        else:\n",
    "            frame[pixelCount:(pixelCount + dataHeader[BUFFER_HEADER_DATA_LENGTH_POS]), 0] = data[:emptyPixelCount]\n",
    "            pixelCount = pixelCount + dataHeader[BUFFER_HEADER_DATA_LENGTH_POS]\n",
    "            print('----------\\n[Pixel overflow]\\nFrame count: ' + str(dataHeader[BUFFER_HEADER_FRAME_NUM_POS]) +\n",
    "                '\\nFrame buffer count: ' + str(dataHeader[BUFFER_HEADER_FRAME_BUFFER_COUNT_POS]) +\n",
    "                '\\nData length: ' + str(dataHeader[BUFFER_HEADER_DATA_LENGTH_POS]) +\n",
    "                '\\nPixel count: ' + str(pixelCount) +\n",
    "                '\\nData header: ' + str(dataHeader))\n",
    "\n",
    "if saveVideo is True:            \n",
    "    out.release()\n",
    "    print('\\n----------\\nVideo saved as: ' + videoFileName + time.strftime(\"%Y%m%d-%H%M%S\") + '.avi')\n",
    "\n",
    "if displayVideo is True:\n",
    "    cv2.destroyWindow('Video')\n",
    "    \n",
    "if plotHeaderValues is True:\n",
    "    # plot succeeded buffers\n",
    "    fig, ax = plt.subplots(1, 3)\n",
    "\n",
    "    ax[0].plot([headerline[BUFFER_HEADER_WRITE_BUFFER_COUNT_POS] for headerline in header], label='Write buffer')\n",
    "    ax[0].plot([headerline[BUFFER_HEADER_DROPPED_BUFFER_COUNT_POS] for headerline in header], label='Dropped buffer')\n",
    "    ax[0].plot([headerline[BUFFER_HEADER_BUFFER_COUNT_POS] for headerline in header], label='Total buffer')\n",
    "    ax[0].legend()\n",
    "    ax[0].set_xlabel(\"Buffer index\")\n",
    "    ax[0].set_ylabel(\"Buffer count\")\n",
    "\n",
    "    # plot dropped buffers\n",
    "    ax[1].plot([headerline[BUFFER_HEADER_DROPPED_BUFFER_COUNT_POS] for headerline in header], label='Dropped buffer')\n",
    "    ax[1].legend()\n",
    "    ax[1].set_xlabel(\"Buffer index\")\n",
    "    ax[1].set_ylabel(\"Buffer count\")\n",
    "\n",
    "    # plot timestamp and FPS\n",
    "    frameindex = []\n",
    "    frametimestamp = []\n",
    "    EWLtimestamp = []\n",
    "\n",
    "    for i in range(len(header)):\n",
    "        if header[i][BUFFER_HEADER_FRAME_BUFFER_COUNT_POS] == 0:\n",
    "            frameindex.append(header[i][BUFFER_HEADER_FRAME_NUM_POS])\n",
    "            frametimestamp.append(header[i][BUFFER_HEADER_TIMESTAMP_POS]/1000) # convert to ms\n",
    "            EWLtimestamp.append(header[i][BUFFER_HEADER_EWL_POS])\n",
    "\n",
    "    coefs = poly.polyfit(frametimestamp, frameindex, 1)\n",
    "\n",
    "    ax[2].plot(frametimestamp, frameindex, label='Record: '+str('{:.2f}'.format(coefs[1]))+'FPS')\n",
    "    ax[2].set_xlabel('Time [s]')\n",
    "    ax[2].set_ylabel('Frame count')\n",
    "    ax[2].legend()\n",
    "    ax[2].plot(frametimestamp, [i * TargetFPS for i in frametimestamp], label=str(TargetFPS) + 'FPS')\n",
    "\n",
    "    fig.set_figheight(3)\n",
    "    fig.set_figwidth(10)\n",
    "\n",
    "    fig.tight_layout()\n",
    "    plt.show()"
   ]
  },
  {
   "cell_type": "code",
   "execution_count": 8,
   "metadata": {},
   "outputs": [
    {
     "data": {
      "image/png": "[encoded data removed]",
      "text/plain": [
       "<Figure size 640x480 with 1 Axes>"
      ]
     },
     "metadata": {},
     "output_type": "display_data"
    }
   ],
   "source": [
    "plt.plot(frameindex,EWLtimestamp)\n",
    "plt.xlabel('Frame index')\n",
    "plt.ylabel('EWL Value')\n",
    "plt.grid()"
   ]
  },
  {
   "cell_type": "code",
   "execution_count": 9,
   "metadata": {},
   "outputs": [],
   "source": [
    "columns_name = [\"Header length\",\"Linked List position\",'Frame#','Buffer_Count','Frame Buffer count','Write Buffer count',\n",
    "                'Dropped buffer count','Timestamp','Data length','Timestamp Write','Battery ADC','EWL']\n",
    "headerData = pd.DataFrame(header, columns = columns_name)"
   ]
  },
  {
   "cell_type": "code",
   "execution_count": 10,
   "metadata": {},
   "outputs": [],
   "source": [
    "csv_data = headerData.to_csv()\n",
    "with open(videoFileName + '.csv', 'w') as csv_file:\n",
    "    headerData.to_csv(path_or_buf=csv_file,index=False, lineterminator='\\n')"
   ]
  },
  {
   "cell_type": "code",
   "execution_count": 11,
   "metadata": {},
   "outputs": [
    {
     "name": "stdout",
     "output_type": "stream",
     "text": [
      "    Header length  Linked List position  Frame#  Buffer_Count  \\\n",
      "0              12                     0       0             0   \n",
      "1              12                     1       0             1   \n",
      "2              12                     2       0             2   \n",
      "3              12                     3       0             3   \n",
      "4              12                     4       0             4   \n",
      "5              12                     5       1             5   \n",
      "6              12                     6       1             6   \n",
      "7              12                     7       1             7   \n",
      "8              12                     0       1             8   \n",
      "9              12                     1       1             9   \n",
      "10             12                     2       2            10   \n",
      "11             12                     3       2            11   \n",
      "12             12                     4       2            12   \n",
      "13             12                     5       2            13   \n",
      "14             12                     6       2            14   \n",
      "15             12                     7       3            15   \n",
      "16             12                     0       3            16   \n",
      "17             12                     1       3            17   \n",
      "18             12                     2       3            18   \n",
      "19             12                     3       3            19   \n",
      "20             12                     4       4            20   \n",
      "21             12                     5       4            21   \n",
      "22             12                     6       4            22   \n",
      "23             12                     7       4            23   \n",
      "24             12                     0       4            24   \n",
      "25             12                     1       5            25   \n",
      "26             12                     2       5            26   \n",
      "27             12                     3       5            27   \n",
      "28             12                     4       5            28   \n",
      "29             12                     5       5            29   \n",
      "30             12                     6       6            30   \n",
      "31             12                     7       6            31   \n",
      "32             12                     0       6            32   \n",
      "33             12                     1       6            33   \n",
      "34             12                     2       6            34   \n",
      "35             12                     3       7            35   \n",
      "36             12                     4       7            36   \n",
      "37             12                     5       7            37   \n",
      "38             12                     6       7            38   \n",
      "39             12                     7       7            39   \n",
      "\n",
      "    Frame Buffer count  Write Buffer count  Dropped buffer count  Timestamp  \\\n",
      "0                    0                   0                     0         39   \n",
      "1                    1                   1                     0         44   \n",
      "2                    2                   2                     0         49   \n",
      "3                    3                   3                     0         55   \n",
      "4                    4                   4                     0         57   \n",
      "5                    0                   5                     0         90   \n",
      "6                    1                   6                     0         96   \n",
      "7                    2                   7                     0        101   \n",
      "8                    3                   8                     0        106   \n",
      "9                    4                   9                     0        108   \n",
      "10                   0                  10                     0        142   \n",
      "11                   1                  11                     0        147   \n",
      "12                   2                  12                     0        152   \n",
      "13                   3                  13                     0        157   \n",
      "14                   4                  14                     0        160   \n",
      "15                   0                  15                     0        193   \n",
      "16                   1                  16                     0        198   \n",
      "17                   2                  17                     0        203   \n",
      "18                   3                  18                     0        208   \n",
      "19                   4                  19                     0        211   \n",
      "20                   0                  20                     0        244   \n",
      "21                   1                  21                     0        249   \n",
      "22                   2                  22                     0        254   \n",
      "23                   3                  23                     0        259   \n",
      "24                   4                  24                     0        262   \n",
      "25                   0                  25                     0        295   \n",
      "26                   1                  26                     0        300   \n",
      "27                   2                  27                     0        305   \n",
      "28                   3                  28                     0        311   \n",
      "29                   4                  29                     0        313   \n",
      "30                   0                  30                     0        346   \n",
      "31                   1                  31                     0        352   \n",
      "32                   2                  32                     0        357   \n",
      "33                   3                  33                     0        362   \n",
      "34                   4                  34                     0        364   \n",
      "35                   0                  35                     0        398   \n",
      "36                   1                  36                     0        403   \n",
      "37                   2                  37                     0        408   \n",
      "38                   3                  38                     0        413   \n",
      "39                   4                  39                     0        416   \n",
      "\n",
      "    Data length  Timestamp Write  Battery ADC  EWL  \n",
      "0         20432               39          175   10  \n",
      "1         20432               46          175   10  \n",
      "2         20432               50          175   10  \n",
      "3         20432               56          175   10  \n",
      "4         10688               60          175   10  \n",
      "5         20432               90          175   10  \n",
      "6         20432               96          175   10  \n",
      "7         20432              101          175   10  \n",
      "8         20432              107          175   10  \n",
      "9         10688              113          175   10  \n",
      "10        20432              142          175   10  \n",
      "11        20432              147          175   10  \n",
      "12        20432              152          175   10  \n",
      "13        20432              157          175   10  \n",
      "14        10688              162          175   10  \n",
      "15        20432              193          175   10  \n",
      "16        20432              198          175   10  \n",
      "17        20432              204          175   10  \n",
      "18        20432              210          175   10  \n",
      "19        10688              216          175   10  \n",
      "20        20432              244          175   10  \n",
      "21        20432              249          175   10  \n",
      "22        20432              254          175   10  \n",
      "23        20432              261          175   10  \n",
      "24        10688              266          175   10  \n",
      "25        20432              295          175   10  \n",
      "26        20432              300          175   10  \n",
      "27        20432              305          175   10  \n",
      "28        20432              312          175   10  \n",
      "29        10688              318          175   10  \n",
      "30        20432              346          175   10  \n",
      "31        20432              352          175   10  \n",
      "32        20432              357          175   10  \n",
      "33        20432              362          175   10  \n",
      "34        10688              367          175   10  \n",
      "35        20432              398          175   10  \n",
      "36        20432              403          175   10  \n",
      "37        20432              408          175   10  \n",
      "38        20432              414          175   10  \n",
      "39        10688              420          175   10  \n"
     ]
    }
   ],
   "source": [
    "get_rows = headerData.head(40)\n",
    "print(get_rows)"
   ]
  },
  {
   "cell_type": "code",
   "execution_count": 12,
   "metadata": {},
   "outputs": [
    {
     "data": {
      "text/plain": [
       "array([   12,     3,   917,  4587,     2,  4587,     0, 47000, 20432,\n",
       "       47000,   165,   240], dtype=uint32)"
      ]
     },
     "execution_count": 12,
     "metadata": {},
     "output_type": "execute_result"
    }
   ],
   "source": [
    "dataHeader"
   ]
  },
  {
   "cell_type": "code",
   "execution_count": null,
   "metadata": {},
   "outputs": [],
   "source": []
  }
 ],
 "metadata": {
  "interpreter": {
   "hash": "bd2f15afc88d4f35266c78e55f166c72852e2d2281239f79d1f6c9416bcc0fbd"
  },
  "kernelspec": {
   "display_name": "Python 3 (ipykernel)",
   "language": "python",
   "name": "python3"
  },
  "language_info": {
   "codemirror_mode": {
    "name": "ipython",
    "version": 3
   },
   "file_extension": ".py",
   "mimetype": "text/x-python",
   "name": "python",
   "nbconvert_exporter": "python",
   "pygments_lexer": "ipython3",
   "version": "3.10.10"
  }
 },
 "nbformat": 4,
 "nbformat_minor": 2
}
