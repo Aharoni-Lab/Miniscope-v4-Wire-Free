{
 "cells": [
  {
   "cell_type": "code",
   "execution_count": 1,
   "id": "e4814557",
   "metadata": {},
   "outputs": [],
   "source": [
    "# Import necessary libraries. In case of an error don't continue running the rest of the cells\n",
    "# To avoid errors create the environment with the following command on Anaconda prompt: \n",
    "# conda create --name <YOUR_ENVIRONMENT_NAME> --file requirements.txt\n",
    "# Make sure to run the command on the folder .../Miniscope-v4-Wire-Free/Python DAQ Interface\n",
    "\n",
    "import numpy as np\n",
    "import time"
   ]
  },
  {
   "cell_type": "code",
   "execution_count": 2,
   "id": "0a8cb31d",
   "metadata": {},
   "outputs": [],
   "source": [
    "driveName = r\"\\\\.\\PhysicalDrive2\"  # Change this to the correct drive. Run Get-PhysicalDisk on Powershell to know the drive number\n",
    "\n",
    "# SD Card sector information\n",
    "headerSector =          1022 # Holds user settings to configure Miniscope and recording\n",
    "configSector =          1023 # Holds final settings of the actual recording\n",
    "dataStartSector =       1024 # Recording data starts here\n",
    "sectorSize =            512\n",
    "\n",
    "WRITE_KEY0 =\t\t\t\t0x0D7CBA17\n",
    "WRITE_KEY1 =\t\t\t\t0x0D7CBA17\n",
    "WRITE_KEY2 =\t\t\t\t0x0D7CBA17\n",
    "WRITE_KEY3 =\t\t\t\t0x0D7CBA17\n",
    "\n",
    "# SD Card Header Sector positions\n",
    "HEADER_GAIN_POS =\t\t\t\t4\n",
    "HEADER_LED_POS =\t\t\t\t5\n",
    "HEADER_EWL_POS =\t\t\t\t6\n",
    "HEADER_RECORD_LENGTH_POS =  \t7\n",
    "HEADER_FRAME_RATE = \t\t\t8\n",
    "HEADER_DELAY_START_POS =\t\t9\n",
    "HEADER_BATT_CUTOFF_POS =\t\t10"
   ]
  },
  {
   "cell_type": "code",
   "execution_count": 3,
   "id": "ed4e4b6c",
   "metadata": {},
   "outputs": [
    {
     "data": {
      "text/plain": [
       "array([ 0,  0,  0,  0,  0,  0,  0,  0,  0,  0,  0,  0,  0,  0,  0,  0,  1,\n",
       "        0,  0,  0,  2,  0,  0,  0, 10,  0,  0,  0, 15,  0,  0,  0, 20,  0,\n",
       "        0,  0, 10,  0,  0,  0, 97, 13,  0,  0,  0,  0,  0,  0,  0,  0,  0,\n",
       "        0,  0,  0,  0,  0,  0,  0,  0,  0,  0,  0,  0,  0,  0,  0,  0,  0,\n",
       "        0,  0,  0,  0,  0,  0,  0,  0,  0,  0,  0,  0,  0,  0,  0,  0,  0,\n",
       "        0,  0,  0,  0,  0,  0,  0,  0,  0,  0,  0,  0,  0,  0,  0,  0,  0,\n",
       "        0,  0,  0,  0,  0,  0,  0,  0,  0,  0,  0,  0,  0,  0,  0,  0,  0,\n",
       "        0,  0,  0,  0,  0,  0,  0,  0,  0,  0,  0,  0,  0,  0,  0,  0,  0,\n",
       "        0,  0,  0,  0,  0,  0,  0,  0,  0,  0,  0,  0,  0,  0,  0,  0,  0,\n",
       "        0,  0,  0,  0,  0,  0,  0,  0,  0,  0,  0,  0,  0,  0,  0,  0,  0,\n",
       "        0,  0,  0,  0,  0,  0,  0,  0,  0,  0,  0,  0,  0,  0,  0,  0,  0,\n",
       "        0,  0,  0,  0,  0,  0,  0,  0,  0,  0,  0,  0,  0,  0,  0,  0,  0,\n",
       "        0,  0,  0,  0,  0,  0,  0,  0,  0,  0,  0,  0,  0,  0,  0,  0,  0,\n",
       "        0,  0,  0,  0,  0,  0,  0,  0,  0,  0,  0,  0,  0,  0,  0,  0,  0,\n",
       "        0,  0,  0,  0,  0,  0,  0,  0,  0,  0,  0,  0,  0,  0,  0,  0,  0,\n",
       "        0,  0,  0,  0,  0,  0,  0,  0,  0,  0,  0,  0,  0,  0,  0,  0,  0,\n",
       "        0,  0,  0,  0,  0,  0,  0,  0,  0,  0,  0,  0,  0,  0,  0,  0,  0,\n",
       "        0,  0,  0,  0,  0,  0,  0,  0,  0,  0,  0,  0,  0,  0,  0,  0,  0,\n",
       "        0,  0,  0,  0,  0,  0,  0,  0,  0,  0,  0,  0,  0,  0,  0,  0,  0,\n",
       "        0,  0,  0,  0,  0,  0,  0,  0,  0,  0,  0,  0,  0,  0,  0,  0,  0,\n",
       "        0,  0,  0,  0,  0,  0,  0,  0,  0,  0,  0,  0,  0,  0,  0,  0,  0,\n",
       "        0,  0,  0,  0,  0,  0,  0,  0,  0,  0,  0,  0,  0,  0,  0,  0,  0,\n",
       "        0,  0,  0,  0,  0,  0,  0,  0,  0,  0,  0,  0,  0,  0,  0,  0,  0,\n",
       "        0,  0,  0,  0,  0,  0,  0,  0,  0,  0,  0,  0,  0,  0,  0,  0,  0,\n",
       "        0,  0,  0,  0,  0,  0,  0,  0,  0,  0,  0,  0,  0,  0,  0,  0,  0,\n",
       "        0,  0,  0,  0,  0,  0,  0,  0,  0,  0,  0,  0,  0,  0,  0,  0,  0,\n",
       "        0,  0,  0,  0,  0,  0,  0,  0,  0,  0,  0,  0,  0,  0,  0,  0,  0,\n",
       "        0,  0,  0,  0,  0,  0,  0,  0,  0,  0,  0,  0,  0,  0,  0,  0,  0,\n",
       "        0,  0,  0,  0,  0,  0,  0,  0,  0,  0,  0,  0,  0,  0,  0,  0,  0,\n",
       "        0,  0,  0,  0,  0,  0,  0,  0,  0,  0,  0,  0,  0,  0,  0,  0,  0,\n",
       "        0,  0], dtype=uint8)"
      ]
     },
     "execution_count": 3,
     "metadata": {},
     "output_type": "execute_result"
    }
   ],
   "source": [
    "# Needs to be run as administrator to have access to openning and reading card\n",
    "\n",
    "correctDrive = False\n",
    "f = open(driveName, \"rb+\")  # Open drive\n",
    "\n",
    "# Make sure this is the correct drive\n",
    "\n",
    "# Read SD Card header and config sectors\n",
    "f.seek(headerSector * sectorSize, 0)  # Move to correct sector\n",
    "headerSectorData = np.frombuffer(f.read(sectorSize), dtype=np.uint8)\n",
    "headerSectorData"
   ]
  },
  {
   "cell_type": "code",
   "execution_count": 4,
   "id": "0c706f23",
   "metadata": {},
   "outputs": [
    {
     "name": "stdout",
     "output_type": "stream",
     "text": [
      "SD Card Opened.\n"
     ]
    }
   ],
   "source": [
    "if (True):\n",
    "#if ((WRITE_KEY0 == headerSectorData[0]) and (WRITE_KEY1 == headerSectorData[1]) and (WRITE_KEY2 == headerSectorData[2]) and (WRITE_KEY3 == headerSectorData[3])):\n",
    "    correctDrive = True\n",
    "    print(\"SD Card Opened.\")\n",
    "else:\n",
    "    print (\"Wrong Drive.\")\n",
    "    correctDrive = False\n",
    "    f.close()"
   ]
  },
  {
   "cell_type": "code",
   "execution_count": 5,
   "id": "7e646c4f",
   "metadata": {},
   "outputs": [],
   "source": [
    "# Code to erase any previously saved data (if any) in the data sector of the microSD card\n",
    "\n",
    "f.seek(headerSector * sectorSize, 0)\n",
    "zeros = np.zeros(sectorSize, dtype=np.uint8)\n",
    "binaryZeros = bytearray(zeros)\n",
    "N = 1000000\n",
    "for i in range(N):\n",
    "    f.write(binaryZeros)"
   ]
  },
  {
   "cell_type": "code",
   "execution_count": 6,
   "id": "c0e95866",
   "metadata": {},
   "outputs": [
    {
     "data": {
      "text/plain": [
       "bytearray(b'\\x00\\x00\\x00\\x00\\x00\\x00\\x00\\x00\\x00\\x00\\x00\\x00\\x00\\x00\\x00\\x00\\x01\\x00\\x00\\x00\\x02\\x00\\x00\\x00\\x96\\x00\\x00\\x00\\x0f\\x00\\x00\\x00\\x14\\x00\\x00\\x00\\n\\x00\\x00\\x00a\\r\\x00\\x00\\x00\\x00\\x00\\x00\\x00\\x00\\x00\\x00\\x00\\x00\\x00\\x00\\x00\\x00\\x00\\x00\\x00\\x00\\x00\\x00\\x00\\x00\\x00\\x00\\x00\\x00\\x00\\x00\\x00\\x00\\x00\\x00\\x00\\x00\\x00\\x00\\x00\\x00\\x00\\x00\\x00\\x00\\x00\\x00\\x00\\x00\\x00\\x00\\x00\\x00\\x00\\x00\\x00\\x00\\x00\\x00\\x00\\x00\\x00\\x00\\x00\\x00\\x00\\x00\\x00\\x00\\x00\\x00\\x00\\x00\\x00\\x00\\x00\\x00\\x00\\x00\\x00\\x00\\x00\\x00\\x00\\x00\\x00\\x00\\x00\\x00\\x00\\x00\\x00\\x00\\x00\\x00\\x00\\x00\\x00\\x00\\x00\\x00\\x00\\x00\\x00\\x00\\x00\\x00\\x00\\x00\\x00\\x00\\x00\\x00\\x00\\x00\\x00\\x00\\x00\\x00\\x00\\x00\\x00\\x00\\x00\\x00\\x00\\x00\\x00\\x00\\x00\\x00\\x00\\x00\\x00\\x00\\x00\\x00\\x00\\x00\\x00\\x00\\x00\\x00\\x00\\x00\\x00\\x00\\x00\\x00\\x00\\x00\\x00\\x00\\x00\\x00\\x00\\x00\\x00\\x00\\x00\\x00\\x00\\x00\\x00\\x00\\x00\\x00\\x00\\x00\\x00\\x00\\x00\\x00\\x00\\x00\\x00\\x00\\x00\\x00\\x00\\x00\\x00\\x00\\x00\\x00\\x00\\x00\\x00\\x00\\x00\\x00\\x00\\x00\\x00\\x00\\x00\\x00\\x00\\x00\\x00\\x00\\x00\\x00\\x00\\x00\\x00\\x00\\x00\\x00\\x00\\x00\\x00\\x00\\x00\\x00\\x00\\x00\\x00\\x00\\x00\\x00\\x00\\x00\\x00\\x00\\x00\\x00\\x00\\x00\\x00\\x00\\x00\\x00\\x00\\x00\\x00\\x00\\x00\\x00\\x00\\x00\\x00\\x00\\x00\\x00\\x00\\x00\\x00\\x00\\x00\\x00\\x00\\x00\\x00\\x00\\x00\\x00\\x00\\x00\\x00\\x00\\x00\\x00\\x00\\x00\\x00\\x00\\x00\\x00\\x00\\x00\\x00\\x00\\x00\\x00\\x00\\x00\\x00\\x00\\x00\\x00\\x00\\x00\\x00\\x00\\x00\\x00\\x00\\x00\\x00\\x00\\x00\\x00\\x00\\x00\\x00\\x00\\x00\\x00\\x00\\x00\\x00\\x00\\x00\\x00\\x00\\x00\\x00\\x00\\x00\\x00\\x00\\x00\\x00\\x00\\x00\\x00\\x00\\x00\\x00\\x00\\x00\\x00\\x00\\x00\\x00\\x00\\x00\\x00\\x00\\x00\\x00\\x00\\x00\\x00\\x00\\x00\\x00\\x00\\x00\\x00\\x00\\x00\\x00\\x00\\x00\\x00\\x00\\x00\\x00\\x00\\x00\\x00\\x00\\x00\\x00\\x00\\x00\\x00\\x00\\x00\\x00\\x00\\x00\\x00\\x00\\x00\\x00\\x00\\x00\\x00\\x00\\x00\\x00\\x00\\x00\\x00\\x00\\x00\\x00\\x00\\x00\\x00\\x00\\x00\\x00\\x00\\x00\\x00\\x00\\x00\\x00\\x00\\x00\\x00\\x00\\x00\\x00\\x00\\x00\\x00\\x00\\x00\\x00\\x00\\x00\\x00\\x00\\x00\\x00\\x00\\x00\\x00\\x00\\x00\\x00\\x00\\x00\\x00\\x00\\x00\\x00\\x00\\x00\\x00\\x00\\x00\\x00\\x00\\x00\\x00\\x00\\x00\\x00\\x00\\x00\\x00\\x00\\x00\\x00\\x00\\x00\\x00\\x00\\x00\\x00\\x00\\x00\\x00\\x00\\x00\\x00\\x00\\x00\\x00\\x00\\x00\\x00\\x00\\x00\\x00\\x00\\x00\\x00\\x00\\x00\\x00\\x00\\x00\\x00\\x00')"
      ]
     },
     "execution_count": 6,
     "metadata": {},
     "output_type": "execute_result"
    }
   ],
   "source": [
    "# Delete data from SD Card\n",
    "f.seek(headerSector * sectorSize, 0)\n",
    "parameters = np.zeros(sectorSize, dtype=np.uint8)\n",
    "\n",
    "# Set the Miniscope parameters\n",
    "# We have to multiply the index by 4 so they can be 32 bit long (4*byte = 32 bits)\n",
    "\n",
    "gain = 1                        # Gain 1= 1, Gain 2= 2, Gain 3= 4\n",
    "led = 2                         # 0 to 100 (0 = LED off)\n",
    "ewl_pos = 120                   # EWL range= 1 to 255 (0 = EWL off)\n",
    "recording_length = 15         # Recording length (in seconds)\n",
    "frame_rate = 20                 # In FPS\n",
    "battery_cutoff = 3425           # Battery level (millivolts)\n",
    "delay_start = 10                # In seconds\n",
    "\n",
    "\n",
    "parameters[HEADER_GAIN_POS*4]=gain             \n",
    "parameters[HEADER_LED_POS*4]=led            \n",
    "parameters[HEADER_EWL_POS*4]=ewl_pos     \n",
    "\n",
    "if recording_length <= 255:\n",
    "    parameters[HEADER_RECORD_LENGTH_POS*4]=recording_length \n",
    "else:\n",
    "    recordingLength = '{0:x}'.format(int(recording_length)) \n",
    "    parameters[HEADER_RECORD_LENGTH_POS*4]=\"{0:03d}\".format(int(recordingLength[1:3], 16))     \n",
    "    parameters[HEADER_RECORD_LENGTH_POS*4+1]=\"{0:03d}\".format(int(recordingLength[0:1], 16))\n",
    "\n",
    "#recordingLength = '{0:x}'.format(int(recording_length)) \n",
    "\n",
    "#parameters[HEADER_RECORD_LENGTH_POS*4]=\"{0:03d}\".format(int(recordingLength[1:3], 16))     #little endian\n",
    "#parameters[HEADER_RECORD_LENGTH_POS*4+1]=\"{0:03d}\".format(int(recordingLength[0:1], 16))\n",
    "\n",
    "\n",
    "#parameters[HEADER_RECORD_LENGTH_POS*4]=1   \n",
    "parameters[HEADER_FRAME_RATE*4]=frame_rate          \n",
    "parameters[HEADER_DELAY_START_POS*4]=delay_start     # In seconds\n",
    "\n",
    "batt = '{0:x}'.format(int(battery_cutoff))            \n",
    "\n",
    "parameters[HEADER_BATT_CUTOFF_POS*4]=\"{0:03d}\".format(int(batt[1:3], 16)) \n",
    "parameters[HEADER_BATT_CUTOFF_POS*4+1]=\"{0:03d}\".format(int(batt[0:1], 16))\n",
    "binaryZeros = bytearray(parameters)\n",
    "f.write(binaryZeros)\n",
    "binaryZeros"
   ]
  },
  {
   "cell_type": "code",
   "execution_count": 7,
   "id": "a1ebc0cb",
   "metadata": {},
   "outputs": [
    {
     "data": {
      "text/plain": [
       "array([  0,   0,   0,   0,   0,   0,   0,   0,   0,   0,   0,   0,   0,\n",
       "         0,   0,   0,   1,   0,   0,   0,   2,   0,   0,   0, 150,   0,\n",
       "         0,   0,  15,   0,   0,   0,  20,   0,   0,   0,  10,   0,   0,\n",
       "         0,  97,  13,   0,   0,   0,   0,   0,   0,   0,   0,   0,   0,\n",
       "         0,   0,   0,   0,   0,   0,   0,   0,   0,   0,   0,   0,   0,\n",
       "         0,   0,   0,   0,   0,   0,   0,   0,   0,   0,   0,   0,   0,\n",
       "         0,   0,   0,   0,   0,   0,   0,   0,   0,   0,   0,   0,   0,\n",
       "         0,   0,   0,   0,   0,   0,   0,   0,   0,   0,   0,   0,   0,\n",
       "         0,   0,   0,   0,   0,   0,   0,   0,   0,   0,   0,   0,   0,\n",
       "         0,   0,   0,   0,   0,   0,   0,   0,   0,   0,   0,   0,   0,\n",
       "         0,   0,   0,   0,   0,   0,   0,   0,   0,   0,   0,   0,   0,\n",
       "         0,   0,   0,   0,   0,   0,   0,   0,   0,   0,   0,   0,   0,\n",
       "         0,   0,   0,   0,   0,   0,   0,   0,   0,   0,   0,   0,   0,\n",
       "         0,   0,   0,   0,   0,   0,   0,   0,   0,   0,   0,   0,   0,\n",
       "         0,   0,   0,   0,   0,   0,   0,   0,   0,   0,   0,   0,   0,\n",
       "         0,   0,   0,   0,   0,   0,   0,   0,   0,   0,   0,   0,   0,\n",
       "         0,   0,   0,   0,   0,   0,   0,   0,   0,   0,   0,   0,   0,\n",
       "         0,   0,   0,   0,   0,   0,   0,   0,   0,   0,   0,   0,   0,\n",
       "         0,   0,   0,   0,   0,   0,   0,   0,   0,   0,   0,   0,   0,\n",
       "         0,   0,   0,   0,   0,   0,   0,   0,   0,   0,   0,   0,   0,\n",
       "         0,   0,   0,   0,   0,   0,   0,   0,   0,   0,   0,   0,   0,\n",
       "         0,   0,   0,   0,   0,   0,   0,   0,   0,   0,   0,   0,   0,\n",
       "         0,   0,   0,   0,   0,   0,   0,   0,   0,   0,   0,   0,   0,\n",
       "         0,   0,   0,   0,   0,   0,   0,   0,   0,   0,   0,   0,   0,\n",
       "         0,   0,   0,   0,   0,   0,   0,   0,   0,   0,   0,   0,   0,\n",
       "         0,   0,   0,   0,   0,   0,   0,   0,   0,   0,   0,   0,   0,\n",
       "         0,   0,   0,   0,   0,   0,   0,   0,   0,   0,   0,   0,   0,\n",
       "         0,   0,   0,   0,   0,   0,   0,   0,   0,   0,   0,   0,   0,\n",
       "         0,   0,   0,   0,   0,   0,   0,   0,   0,   0,   0,   0,   0,\n",
       "         0,   0,   0,   0,   0,   0,   0,   0,   0,   0,   0,   0,   0,\n",
       "         0,   0,   0,   0,   0,   0,   0,   0,   0,   0,   0,   0,   0,\n",
       "         0,   0,   0,   0,   0,   0,   0,   0,   0,   0,   0,   0,   0,\n",
       "         0,   0,   0,   0,   0,   0,   0,   0,   0,   0,   0,   0,   0,\n",
       "         0,   0,   0,   0,   0,   0,   0,   0,   0,   0,   0,   0,   0,\n",
       "         0,   0,   0,   0,   0,   0,   0,   0,   0,   0,   0,   0,   0,\n",
       "         0,   0,   0,   0,   0,   0,   0,   0,   0,   0,   0,   0,   0,\n",
       "         0,   0,   0,   0,   0,   0,   0,   0,   0,   0,   0,   0,   0,\n",
       "         0,   0,   0,   0,   0,   0,   0,   0,   0,   0,   0,   0,   0,\n",
       "         0,   0,   0,   0,   0,   0,   0,   0,   0,   0,   0,   0,   0,\n",
       "         0,   0,   0,   0,   0], dtype=uint8)"
      ]
     },
     "execution_count": 7,
     "metadata": {},
     "output_type": "execute_result"
    }
   ],
   "source": [
    "f.seek(headerSector * sectorSize, 0)  # Move to correct sector\n",
    "headerSectorData = np.frombuffer(f.read(sectorSize), dtype=np.uint8)\n",
    "headerSectorData"
   ]
  },
  {
   "cell_type": "code",
   "execution_count": 8,
   "id": "78825775",
   "metadata": {},
   "outputs": [
    {
     "data": {
      "text/plain": [
       "512"
      ]
     },
     "execution_count": 8,
     "metadata": {},
     "output_type": "execute_result"
    }
   ],
   "source": [
    "len(parameters)  #We check that we are writing 512 bytes (size of a vector)"
   ]
  },
  {
   "cell_type": "code",
   "execution_count": 9,
   "id": "192fdf1c",
   "metadata": {},
   "outputs": [],
   "source": [
    "# Code to erase any previously saved data (if any) in the data sector of the microSD card\n",
    "\n",
    "#f.seek(dataStartSector * sectorSize, 0)\n",
    "#zeros = np.zeros(sectorSize, dtype=np.uint8)\n",
    "#binaryZeros = bytearray(zeros)\n",
    "#N = 1000000\n",
    "#for i in range(N):\n",
    "#    f.write(binaryZeros)"
   ]
  },
  {
   "cell_type": "code",
   "execution_count": 10,
   "id": "9be2767b",
   "metadata": {},
   "outputs": [],
   "source": [
    "f.close()"
   ]
  },
  {
   "cell_type": "code",
   "execution_count": null,
   "id": "050064bb",
   "metadata": {},
   "outputs": [],
   "source": []
  }
 ],
 "metadata": {
  "kernelspec": {
   "display_name": "Python 3 (ipykernel)",
   "language": "python",
   "name": "python3"
  },
  "language_info": {
   "codemirror_mode": {
    "name": "ipython",
    "version": 3
   },
   "file_extension": ".py",
   "mimetype": "text/x-python",
   "name": "python",
   "nbconvert_exporter": "python",
   "pygments_lexer": "ipython3",
   "version": "3.10.10"
  }
 },
 "nbformat": 4,
 "nbformat_minor": 5
}
