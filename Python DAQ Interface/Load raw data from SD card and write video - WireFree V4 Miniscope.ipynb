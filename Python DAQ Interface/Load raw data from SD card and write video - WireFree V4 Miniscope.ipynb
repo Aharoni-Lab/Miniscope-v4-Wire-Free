{
 "cells": [
  {
   "cell_type": "code",
   "execution_count": null,
   "metadata": {},
   "outputs": [],
   "source": [
    "# Import necessary libraries. In case of an error don't continue running the rest of the cells\n",
    "# To avoid errors create the environment with the following command on Anaconda prompt: \n",
    "# conda create --name <YOUR_ENVIRONMENT_NAME> --file requirements.txt\n",
    "# Make sure to run the command on the folder .../Miniscope-v4-Wire-Free/Python DAQ Interface\n",
    "\n",
    "import numpy as np\n",
    "from matplotlib import pyplot as plt\n",
    "import cv2\n",
    "import time"
   ]
  },
  {
   "cell_type": "code",
   "execution_count": null,
   "metadata": {},
   "outputs": [],
   "source": [
    "driveName = r\"\\\\.\\PhysicalDrive2\"  # Change this to the correct drive\n",
    "\n",
    "# SD Card sector information\n",
    "headerSector =          1022 # Holds user settings to configure Miniscope and recording\n",
    "configSector =          1023 # Holds final settings of the actual recording\n",
    "dataStartSector =       1024 # Recording data starts here\n",
    "sectorSize =            512\n",
    "\n",
    "WRITE_KEY0 =\t\t\t\t0x0D7CBA17\n",
    "WRITE_KEY1 =\t\t\t\t0x0D7CBA17\n",
    "WRITE_KEY2 =\t\t\t\t0x0D7CBA17\n",
    "WRITE_KEY3 =\t\t\t\t0x0D7CBA17\n",
    "\n",
    "# SD Card Header Sector positions\n",
    "HEADER_GAIN_POS =\t\t\t\t4\n",
    "HEADER_LED_POS =\t\t\t\t5\n",
    "HEADER_EWL_POS =\t\t\t\t6\n",
    "HEADER_RECORD_LENGTH_POS =  \t7\n",
    "HEADER_FRAME_RATE = \t\t\t8\n",
    "\n",
    "# SD Card Config Sector positions\n",
    "CONFIG_BLOCK_WIDTH_POS =\t\t\t    0\n",
    "CONFIG_BLOCK_HEIGHT_POS\t=   \t\t    1\n",
    "CONFIG_BLOCK_FRAME_RATE_POS\t=   \t    2\n",
    "CONFIG_BLOCK_BUFFER_SIZE_POS =  \t    3\n",
    "CONFIG_BLOCK_NUM_BUFFERS_RECORDED_POS =\t4\n",
    "CONFIG_BLOCK_NUM_BUFFERS_DROPPED_POS =\t5\n",
    "\n",
    "# Data Buffer Header positions\n",
    "BUFFER_HEADER_HEADER_LENGTH_POS =\t\t\t0\n",
    "BUFFER_HEADER_LINKED_LIST_POS = \t\t\t1\n",
    "BUFFER_HEADER_FRAME_NUM_POS\t=   \t\t\t2\n",
    "BUFFER_HEADER_BUFFER_COUNT_POS =\t\t\t3\n",
    "BUFFER_HEADER_FRAME_BUFFER_COUNT_POS =  \t4\n",
    "BUFFER_HEADER_WRITE_BUFFER_COUNT_POS =  \t5\n",
    "BUFFER_HEADER_DROPPED_BUFFER_COUNT_POS =\t6\n",
    "BUFFER_HEADER_TIMESTAMP_POS\t=   \t\t\t7\n",
    "BUFFER_HEADER_DATA_LENGTH_POS = \t\t\t8\n",
    "BUFFER_HEADER_WRITE_TIMESTAMP_POS = \t\t9"
   ]
  },
  {
   "cell_type": "code",
   "execution_count": null,
   "metadata": {},
   "outputs": [],
   "source": [
    "# Needs to be run as administrator to have access to openning and reading card\n",
    "\n",
    "# variables that you can adjust\n",
    "correctDrive = False\n",
    "f = open(driveName, \"rb+\")  # Open drive\n",
    "\n",
    "# Make sure this is the correct drive\n",
    "# Read SD Card header and config sectors\n",
    "f.seek(headerSector * sectorSize, 0)  # Move to correct sector\n",
    "headerSectorData = np.frombuffer(f.read(sectorSize), dtype=np.uint32)\n",
    "if (True):\n",
    "#if ((WRITE_KEY0 == headerSectorData[0]) and (WRITE_KEY1 == headerSectorData[1]) and (WRITE_KEY2 == headerSectorData[2]) and (WRITE_KEY3 == headerSectorData[3])):\n",
    "    correctDrive = True\n",
    "    print(\"SD Card Opened.\")\n",
    "else:\n",
    "    print (\"Wrong Drive.\")\n",
    "    correctDrive = False\n",
    "    f.close()"
   ]
  },
  {
   "cell_type": "code",
   "execution_count": null,
   "metadata": {},
   "outputs": [],
   "source": [
    "# Do not normally need to run this cell\n",
    "    \n",
    "#f.close()"
   ]
  },
  {
   "cell_type": "code",
   "execution_count": null,
   "metadata": {},
   "outputs": [],
   "source": [
    "# Load up Config Sector\n",
    "\n",
    "f.seek(configSector * sectorSize, 0)  # Move to correct sector\n",
    "configSectorData = np.fromstring(f.read(sectorSize), dtype=np.uint32)\n",
    "\n",
    "\n",
    "\n",
    "# This needs to be removed once WF Miniscope writes this sector correctly\n",
    "# configSectorData[CONFIG_BLOCK_WIDTH_POS] = 304\n",
    "# configSectorData[CONFIG_BLOCK_HEIGHT_POS] = 304\n",
    "# configSectorData[CONFIG_BLOCK_NUM_BUFFERS_RECORDED_POS] = 290\n",
    "configSectorData"
   ]
  },
  {
   "cell_type": "code",
   "execution_count": null,
   "metadata": {},
   "outputs": [],
   "source": [
    "# Read Data Sectors\n",
    "saveVideo = True\n",
    "plotHeaderValues = False\n",
    "displayVideo = True\n",
    "\n",
    "frameNum = 0\n",
    "pixelCount = 0\n",
    "header = []\n",
    "\n",
    "if saveVideo is True:\n",
    "    out = cv2.VideoWriter('WFV4_Mini5_test2.avi', cv2.VideoWriter_fourcc(*'GREY'), \n",
    "                        10.0, (configSectorData[CONFIG_BLOCK_WIDTH_POS], configSectorData[CONFIG_BLOCK_HEIGHT_POS] ), \n",
    "                        isColor=False)\n",
    "\n",
    "frame = np.zeros((configSectorData[CONFIG_BLOCK_WIDTH_POS] * configSectorData[CONFIG_BLOCK_HEIGHT_POS], 1), dtype=np.uint8)\n",
    "f.seek(dataStartSector * sectorSize, 0) # Starting data location\n",
    "for i in range(configSectorData[CONFIG_BLOCK_NUM_BUFFERS_RECORDED_POS]):\n",
    "    dataHeader = np.fromstring(f.read(4), dtype=np.uint32) # gets header length\n",
    "    dataHeader = np.append(dataHeader, np.fromstring(f.read((dataHeader[BUFFER_HEADER_HEADER_LENGTH_POS] - 1) * 4), dtype=np.uint32))\n",
    "\n",
    "    header.append(dataHeader)\n",
    "    \n",
    "    numBlocks = int((dataHeader[BUFFER_HEADER_DATA_LENGTH_POS] + (dataHeader[BUFFER_HEADER_HEADER_LENGTH_POS] * 4) + (512 - 1)) / 512)\n",
    "    \n",
    "    data = np.fromstring(f.read(numBlocks*512 - dataHeader[BUFFER_HEADER_HEADER_LENGTH_POS] * 4), dtype=np.uint8)\n",
    "\n",
    "    # -------------------------------------\n",
    "    if (dataHeader[BUFFER_HEADER_FRAME_BUFFER_COUNT_POS] == 0):\n",
    "        # First buffer of a frame\n",
    "        \n",
    "        if saveVideo is True:\n",
    "            out.write(np.reshape(frame, (configSectorData[CONFIG_BLOCK_WIDTH_POS], configSectorData[CONFIG_BLOCK_HEIGHT_POS] )))\n",
    "        \n",
    "        if displayVideo is True:\n",
    "            cv2.imshow('Video', np.reshape(frame, (configSectorData[CONFIG_BLOCK_WIDTH_POS], configSectorData[CONFIG_BLOCK_HEIGHT_POS] )))\n",
    "            cv2.waitKey(20)\n",
    "            \n",
    "        frame[0:dataHeader[BUFFER_HEADER_DATA_LENGTH_POS], 0] = data\n",
    "        pixelCount = dataHeader[BUFFER_HEADER_DATA_LENGTH_POS]\n",
    "        frameNum = dataHeader[BUFFER_HEADER_FRAME_NUM_POS]\n",
    "    else:\n",
    "        # All other buffers of a frame\n",
    "        # startIdx = dataHeader[BUFFER_HEADER_FRAME_BUFFER_COUNT_POS] * 50 * 512\n",
    "        frame[pixelCount:(pixelCount + dataHeader[BUFFER_HEADER_DATA_LENGTH_POS]), 0] = data[:dataHeader[BUFFER_HEADER_DATA_LENGTH_POS]]\n",
    "        pixelCount = pixelCount + dataHeader[BUFFER_HEADER_DATA_LENGTH_POS]\n",
    "\n",
    "if saveVideo is True:            \n",
    "    out.release()\n",
    "\n",
    "if displayVideo is True:\n",
    "    cv2.destroyWindow('Video')\n",
    "    \n",
    "if plotHeaderValues is True:\n",
    "    temp = np.asarray(header)\n",
    "    plt.plot(temp)"
   ]
  },
  {
   "cell_type": "code",
   "execution_count": null,
   "metadata": {},
   "outputs": [],
   "source": [
    "header"
   ]
  },
  {
   "cell_type": "code",
   "execution_count": null,
   "metadata": {},
   "outputs": [],
   "source": [
    "dataHeader"
   ]
  },
  {
   "cell_type": "code",
   "execution_count": null,
   "metadata": {},
   "outputs": [],
   "source": [
    "data"
   ]
  },
  {
   "cell_type": "code",
   "execution_count": null,
   "metadata": {},
   "outputs": [],
   "source": []
  }
 ],
 "metadata": {
  "interpreter": {
   "hash": "bd2f15afc88d4f35266c78e55f166c72852e2d2281239f79d1f6c9416bcc0fbd"
  },
  "kernelspec": {
   "display_name": "Python 3 (ipykernel)",
   "language": "python",
   "name": "python3"
  },
  "language_info": {
   "codemirror_mode": {
    "name": "ipython",
    "version": 3
   },
   "file_extension": ".py",
   "mimetype": "text/x-python",
   "name": "python",
   "nbconvert_exporter": "python",
   "pygments_lexer": "ipython3",
   "version": "3.10.9"
  }
 },
 "nbformat": 4,
 "nbformat_minor": 2
}
