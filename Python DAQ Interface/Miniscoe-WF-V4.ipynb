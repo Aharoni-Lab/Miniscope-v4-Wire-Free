{
 "cells": [
  {
   "cell_type": "code",
   "execution_count": 34,
   "metadata": {},
   "outputs": [],
   "source": [
    "import numpy as np\n",
    "import cv2\n",
    "import time"
   ]
  },
  {
   "cell_type": "code",
   "execution_count": 52,
   "metadata": {},
   "outputs": [],
   "source": [
    "driveName = r\"\\\\.\\PhysicalDrive1\"  # Change this to the correct drive\n",
    "\n",
    "# SD Card sector information\n",
    "headerSector =          1022 # Holds user settings to configure Miniscope and recording\n",
    "configSector =          1023 # Holds final settings of the actual recording\n",
    "dataStartSector =       1024 # Recording data starts here\n",
    "sectorSize =            512\n",
    "\n",
    "WRITE_KEY0 =\t\t\t\t0x0D7CBA17\n",
    "WRITE_KEY1 =\t\t\t\t0x0D7CBA17\n",
    "WRITE_KEY2 =\t\t\t\t0x0D7CBA17\n",
    "WRITE_KEY3 =\t\t\t\t0x0D7CBA17\n",
    "\n",
    "# SD Card Header Sector positions\n",
    "HEADER_GAIN_POS =\t\t\t\t4\n",
    "HEADER_LED_POS =\t\t\t\t5\n",
    "HEADER_EWL_POS =\t\t\t\t6\n",
    "HEADER_RECORD_LENGTH_POS =  \t7\n",
    "HEADER_FRAME_RATE = \t\t\t8\n",
    "\n",
    "# SD Card Config Sector positions\n",
    "CONFIG_BLOCK_WIDTH_POS =\t\t\t    0\n",
    "CONFIG_BLOCK_HEIGHT_POS\t=   \t\t    1\n",
    "CONFIG_BLOCK_FRAME_RATE_POS\t=   \t    2\n",
    "CONFIG_BLOCK_BUFFER_SIZE_POS =  \t    3\n",
    "CONFIG_BLOCK_NUM_BUFFERS_RECORDED_POS =\t4\n",
    "CONFIG_BLOCK_NUM_BUFFERS_DROPPED_POS =\t5\n",
    "\n",
    "# Data Buffer Header positions\n",
    "BUFFER_HEADER_HEADER_LENGTH_POS =\t\t\t0\n",
    "BUFFER_HEADER_LINKED_LIST_POS = \t\t\t1\n",
    "BUFFER_HEADER_FRAME_NUM_POS\t=   \t\t\t2\n",
    "BUFFER_HEADER_BUFFER_COUNT_POS =\t\t\t3\n",
    "BUFFER_HEADER_FRAME_BUFFER_COUNT_POS =  \t4\n",
    "BUFFER_HEADER_WRITE_BUFFER_COUNT_POS =  \t5\n",
    "BUFFER_HEADER_DROPPED_BUFFER_COUNT_POS =\t6\n",
    "BUFFER_HEADER_TIMESTAMP_POS\t=   \t\t\t7\n",
    "BUFFER_HEADER_DATA_LENGTH_POS = \t\t\t8\n",
    "BUFFER_HEADER_WRITE_TIMESTAMP_POS = \t\t9"
   ]
  },
  {
   "cell_type": "code",
   "execution_count": 50,
   "metadata": {},
   "outputs": [
    {
     "name": "stdout",
     "output_type": "stream",
     "text": [
      "SD Card Openned.\n"
     ]
    }
   ],
   "source": [
    "# Needs to be run as administrator to have access to openning and reading card\n",
    "\n",
    "# variables that you can adjust\n",
    "correctDrive = False\n",
    "f = open(driveName, \"rb\")  # Open drive\n",
    "\n",
    "# Make sure this is the correct drive\n",
    "# Read SD Card header and config sectors\n",
    "f.seek(headerSector * sectorSize, 0)  # Move to correct sector\n",
    "headerSectorData = np.frombuffer(f.read(sectorSize), dtype=np.uint32)\n",
    "if ((WRITE_KEY0 == headerSectorData[0]) and (WRITE_KEY1 == headerSectorData[1]) and (WRITE_KEY2 == headerSectorData[2]) and (WRITE_KEY3 == headerSectorData[3])):\n",
    "    correctDrive = True\n",
    "    print(\"SD Card Openned.\")\n",
    "else:\n",
    "    print (\"Wrong Drive.\")\n",
    "    correctDrive = False\n",
    "    f.close()"
   ]
  },
  {
   "cell_type": "code",
   "execution_count": 4,
   "metadata": {},
   "outputs": [],
   "source": [
    "    # Do not normally need to run this cell\n",
    "    \n",
    "    f.close()"
   ]
  },
  {
   "cell_type": "code",
   "execution_count": 51,
   "metadata": {},
   "outputs": [
    {
     "name": "stderr",
     "output_type": "stream",
     "text": [
      "C:\\Users\\dbaha\\AppData\\Local\\Temp/ipykernel_10592/615034275.py:4: DeprecationWarning: The binary mode of fromstring is deprecated, as it behaves surprisingly on unicode inputs. Use frombuffer instead\n",
      "  configSectorData = np.fromstring(f.read(sectorSize), dtype=np.uint32)\n"
     ]
    },
    {
     "data": {
      "text/plain": [
       "array([  600,   600,     0, 25600,     0,     0,     0,     0,     0,\n",
       "           0,     0,     0,     0,     0,     0,     0,     0,     0,\n",
       "           0,     0,     0,     0,     0,     0,     0,     0,     0,\n",
       "           0,     0,     0,     0,     0,     0,     0,     0,     0,\n",
       "           0,     0,     0,     0,     0,     0,     0,     0,     0,\n",
       "           0,     0,     0,     0,     0,     0,     0,     0,     0,\n",
       "           0,     0,     0,     0,     0,     0,     0,     0,     0,\n",
       "           0,     0,     0,     0,     0,     0,     0,     0,     0,\n",
       "           0,     0,     0,     0,     0,     0,     0,     0,     0,\n",
       "           0,     0,     0,     0,     0,     0,     0,     0,     0,\n",
       "           0,     0,     0,     0,     0,     0,     0,     0,     0,\n",
       "           0,     0,     0,     0,     0,     0,     0,     0,     0,\n",
       "           0,     0,     0,     0,     0,     0,     0,     0,     0,\n",
       "           0,     0,     0,     0,     0,     0,     0,     0,     0,\n",
       "           0,     0], dtype=uint32)"
      ]
     },
     "execution_count": 51,
     "metadata": {},
     "output_type": "execute_result"
    }
   ],
   "source": [
    "# Load up Config Sector\n",
    "\n",
    "f.seek(configSector * sectorSize, 0)  # Move to correct sector\n",
    "configSectorData = np.fromstring(f.read(sectorSize), dtype=np.uint32)\n",
    "\n",
    "\n",
    "\n",
    "# This needs to be removed once WF Miniscope writes this sector correctly\n",
    "configSectorData[CONFIG_BLOCK_WIDTH_POS] = 600\n",
    "configSectorData[CONFIG_BLOCK_HEIGHT_POS] = 600\n",
    "\n",
    "configSectorData"
   ]
  },
  {
   "cell_type": "code",
   "execution_count": 54,
   "metadata": {},
   "outputs": [
    {
     "name": "stdout",
     "output_type": "stream",
     "text": [
      "[   10     0     0     0     0     0     0    36 25560    36]\n",
      "[   10     1     1    15     1     1    14   149 25560   149]\n",
      "[   10     2     2    30     2     2    28   263 25560   263]\n",
      "[   10     3     3    45     3     3    42   377 25560   377]\n",
      "[   10     4     4    60     4     4    56   491 25560   491]\n",
      "[   10     5     5    75     5     5    70   605 25560   605]\n",
      "[   10     6     6    90     6     6    84   719 25560   719]\n",
      "[   10     0     6    91     7     7    84   720 25560   745]\n",
      "[   10     1     6    92     8     8    84   722 25560   771]\n",
      "[   10     2     6    93     9     9    84   724 25560   798]\n"
     ]
    },
    {
     "name": "stderr",
     "output_type": "stream",
     "text": [
      "C:\\Users\\dbaha\\AppData\\Local\\Temp/ipykernel_10592/698187910.py:8: DeprecationWarning: The binary mode of fromstring is deprecated, as it behaves surprisingly on unicode inputs. Use frombuffer instead\n",
      "  dataHeader = np.fromstring(f.read(4), dtype=np.uint32) # gets header length\n",
      "C:\\Users\\dbaha\\AppData\\Local\\Temp/ipykernel_10592/698187910.py:9: DeprecationWarning: The binary mode of fromstring is deprecated, as it behaves surprisingly on unicode inputs. Use frombuffer instead\n",
      "  dataHeader = np.append(dataHeader, np.fromstring(f.read((dataHeader[BUFFER_HEADER_HEADER_LENGTH_POS] - 1) * 4), dtype=np.uint32))\n",
      "C:\\Users\\dbaha\\AppData\\Local\\Temp/ipykernel_10592/698187910.py:15: DeprecationWarning: The binary mode of fromstring is deprecated, as it behaves surprisingly on unicode inputs. Use frombuffer instead\n",
      "  data = np.fromstring(f.read(numBlocks*512 - dataHeader[BUFFER_HEADER_HEADER_LENGTH_POS] * 4), dtype=np.uint8)\n"
     ]
    },
    {
     "ename": "ValueError",
     "evalue": "could not broadcast input array from shape (25560,) into shape (0,)",
     "output_type": "error",
     "traceback": [
      "\u001b[1;31m---------------------------------------------------------------------------\u001b[0m",
      "\u001b[1;31mValueError\u001b[0m                                Traceback (most recent call last)",
      "\u001b[1;32m~\\AppData\\Local\\Temp/ipykernel_10592/698187910.py\u001b[0m in \u001b[0;36m<module>\u001b[1;34m\u001b[0m\n\u001b[0;32m     27\u001b[0m         \u001b[1;31m# All other buffers of a frame\u001b[0m\u001b[1;33m\u001b[0m\u001b[1;33m\u001b[0m\u001b[1;33m\u001b[0m\u001b[0m\n\u001b[0;32m     28\u001b[0m         \u001b[0mstartIdx\u001b[0m \u001b[1;33m=\u001b[0m \u001b[0mdataHeader\u001b[0m\u001b[1;33m[\u001b[0m\u001b[0mBUFFER_HEADER_FRAME_BUFFER_COUNT_POS\u001b[0m\u001b[1;33m]\u001b[0m \u001b[1;33m*\u001b[0m \u001b[1;36m80\u001b[0m \u001b[1;33m*\u001b[0m \u001b[1;36m512\u001b[0m\u001b[1;33m\u001b[0m\u001b[1;33m\u001b[0m\u001b[0m\n\u001b[1;32m---> 29\u001b[1;33m         \u001b[0mframe\u001b[0m\u001b[1;33m[\u001b[0m\u001b[0mstartIdx\u001b[0m\u001b[1;33m:\u001b[0m\u001b[1;33m(\u001b[0m\u001b[0mstartIdx\u001b[0m \u001b[1;33m+\u001b[0m \u001b[0mdata\u001b[0m\u001b[1;33m.\u001b[0m\u001b[0msize\u001b[0m\u001b[1;33m)\u001b[0m\u001b[1;33m,\u001b[0m \u001b[1;36m0\u001b[0m\u001b[1;33m]\u001b[0m \u001b[1;33m=\u001b[0m \u001b[0mdata\u001b[0m\u001b[1;33m\u001b[0m\u001b[1;33m\u001b[0m\u001b[0m\n\u001b[0m\u001b[0;32m     30\u001b[0m         \u001b[0mpixelCount\u001b[0m \u001b[1;33m=\u001b[0m \u001b[0mpixelCount\u001b[0m \u001b[1;33m+\u001b[0m \u001b[0mdataHeader\u001b[0m\u001b[1;33m[\u001b[0m\u001b[0mBUFFER_HEADER_DATA_LENGTH_POS\u001b[0m\u001b[1;33m]\u001b[0m\u001b[1;33m\u001b[0m\u001b[1;33m\u001b[0m\u001b[0m\n\u001b[0;32m     31\u001b[0m \u001b[1;33m\u001b[0m\u001b[0m\n",
      "\u001b[1;31mValueError\u001b[0m: could not broadcast input array from shape (25560,) into shape (0,)"
     ]
    }
   ],
   "source": [
    "# Read Data Sectors\n",
    "frameNum = 0\n",
    "pixelCount = 0\n",
    "\n",
    "frame = np.zeros((configSectorData[CONFIG_BLOCK_WIDTH_POS] * configSectorData[CONFIG_BLOCK_HEIGHT_POS], 1), dtype=np.uint8)\n",
    "f.seek(dataStartSector * sectorSize, 0) # Starting data location\n",
    "for i in range(1000):\n",
    "    dataHeader = np.fromstring(f.read(4), dtype=np.uint32) # gets header length\n",
    "    dataHeader = np.append(dataHeader, np.fromstring(f.read((dataHeader[BUFFER_HEADER_HEADER_LENGTH_POS] - 1) * 4), dtype=np.uint32))\n",
    "\n",
    "    print(dataHeader)\n",
    "    \n",
    "    numBlocks = int((dataHeader[BUFFER_HEADER_DATA_LENGTH_POS] + (dataHeader[BUFFER_HEADER_HEADER_LENGTH_POS] * 4) + (512 - 1)) / 512)\n",
    "    \n",
    "    data = np.fromstring(f.read(numBlocks*512 - dataHeader[BUFFER_HEADER_HEADER_LENGTH_POS] * 4), dtype=np.uint8)\n",
    "\n",
    "    # -------------------------------------\n",
    "    if (dataHeader[BUFFER_HEADER_FRAME_BUFFER_COUNT_POS] == 0):\n",
    "        # First buffer of a frame\n",
    "        cv2.imshow('Video', np.reshape(frame, (configSectorData[CONFIG_BLOCK_WIDTH_POS], configSectorData[CONFIG_BLOCK_HEIGHT_POS] )))\n",
    "        cv2.waitKey(50)\n",
    "            \n",
    "        frame[0:dataHeader[BUFFER_HEADER_DATA_LENGTH_POS], 0] = data\n",
    "        pixelCount = dataHeader[BUFFER_HEADER_DATA_LENGTH_POS]\n",
    "        frameNum = dataHeader[BUFFER_HEADER_FRAME_NUM_POS]\n",
    "    else:\n",
    "        # All other buffers of a frame\n",
    "        startIdx = dataHeader[BUFFER_HEADER_FRAME_BUFFER_COUNT_POS] * 50 * 512\n",
    "        frame[startIdx:(startIdx + data.size), 0] = data\n",
    "        pixelCount = pixelCount + dataHeader[BUFFER_HEADER_DATA_LENGTH_POS]\n",
    "\n",
    "            \n",
    "        \n",
    "cv2.destroyWindow('Video')"
   ]
  }
 ],
 "metadata": {
  "interpreter": {
   "hash": "bd2f15afc88d4f35266c78e55f166c72852e2d2281239f79d1f6c9416bcc0fbd"
  },
  "kernelspec": {
   "display_name": "Python 3.8.12 ('minian')",
   "language": "python",
   "name": "python3"
  },
  "language_info": {
   "codemirror_mode": {
    "name": "ipython",
    "version": 3
   },
   "file_extension": ".py",
   "mimetype": "text/x-python",
   "name": "python",
   "nbconvert_exporter": "python",
   "pygments_lexer": "ipython3",
   "version": "3.8.12"
  },
  "orig_nbformat": 4
 },
 "nbformat": 4,
 "nbformat_minor": 2
}
